{
 "cells": [
  {
   "cell_type": "code",
   "execution_count": 1,
   "metadata": {},
   "outputs": [],
   "source": [
    "import pandas as pd\n",
    "import numpy as np\n",
    "import os\n",
    "import pickle\n",
    "import matplotlib.pyplot as plt\n",
    "import seaborn as sns\n",
    "from sklearn import __version__ as sklearn_version\n",
    "import time\n",
    "\n",
    "from sklearn.preprocessing import scale\n",
    "from sklearn.pipeline import Pipeline\n",
    "from sklearn.impute import SimpleImputer\n",
    "from sklearn.decomposition import PCA\n",
    "from sklearn.preprocessing import StandardScaler, MinMaxScaler\n",
    "\n",
    "from sklearn.model_selection import train_test_split, cross_validate, GridSearchCV, learning_curve, cross_val_score, RepeatedStratifiedKFold, RandomizedSearchCV\n",
    "from sklearn.feature_selection import SelectKBest, f_regression\n",
    "\n",
    "from sklearn.dummy import DummyRegressor\n",
    "from sklearn.linear_model import LinearRegression, LogisticRegression, Lasso, Ridge\n",
    "from sklearn.ensemble import RandomForestRegressor\n",
    "import lightgbm\n",
    "from catboost import CatBoostClassifier, cv, Pool\n",
    "from sklearn.svm import SVC, SVR\n",
    "from sklearn.neighbors import KNeighborsRegressor\n",
    "\n",
    "\n",
    "from sklearn.metrics import r2_score, mean_squared_error, mean_absolute_error\n",
    "from scipy import stats\n",
    "\n",
    "from bayes_opt import BayesianOptimization\n",
    "from skopt import BayesSearchCV\n"
   ]
  },
  {
   "cell_type": "code",
   "execution_count": 4,
   "metadata": {},
   "outputs": [
    {
     "name": "stdout",
     "output_type": "stream",
     "text": [
      "The scikit-learn version is 0.24.1.\n"
     ]
    }
   ],
   "source": [
    "\n",
    "import sklearn\n",
    "\n",
    "print('The scikit-learn version is {}.'.format(sklearn.__version__))"
   ]
  },
  {
   "cell_type": "markdown",
   "metadata": {},
   "source": [
    "Imput homes_onehot instead and rescale after splitting on just the training datasets to remove data leakage"
   ]
  },
  {
   "cell_type": "code",
   "execution_count": 2,
   "metadata": {},
   "outputs": [],
   "source": [
    "homes_onehot = pd.read_csv('Homes_Onehot.csv')\n",
    "homes_onehot = homes_onehot.drop(['Unnamed: 0'], axis=1)"
   ]
  },
  {
   "cell_type": "markdown",
   "metadata": {},
   "source": [
    "A few features had some remaining nans, removed them"
   ]
  },
  {
   "cell_type": "code",
   "execution_count": 3,
   "metadata": {},
   "outputs": [],
   "source": [
    "homes_onehot = homes_onehot.dropna()"
   ]
  },
  {
   "cell_type": "markdown",
   "metadata": {},
   "source": [
    "Create location columns filter"
   ]
  },
  {
   "cell_type": "code",
   "execution_count": 4,
   "metadata": {},
   "outputs": [],
   "source": [
    "filter_col1 = [col for col in homes_onehot if col.startswith('ZIP') or col.startswith('City') or col.startswith('Township') or col.startswith('Subdivision')]"
   ]
  },
  {
   "cell_type": "markdown",
   "metadata": {},
   "source": [
    "Create X for all columns except locations, split data"
   ]
  },
  {
   "cell_type": "code",
   "execution_count": 24,
   "metadata": {},
   "outputs": [],
   "source": [
    "X_big = homes_onehot.drop(columns='Sales Price')\n",
    "X_big = X_big.drop(columns=filter_col1)\n",
    "y = homes_onehot[['Sales Price']]\n",
    "X_big_train, X_big_test, y_big_train, y_big_test = train_test_split(X_big, y, test_size=0.25, random_state=25)"
   ]
  },
  {
   "cell_type": "code",
   "execution_count": 29,
   "metadata": {},
   "outputs": [
    {
     "name": "stdout",
     "output_type": "stream",
     "text": [
      "<class 'pandas.core.frame.DataFrame'>\n",
      "Int64Index: 4595 entries, 0 to 4670\n",
      "Data columns (total 134 columns):\n",
      " #    Column                          Dtype  \n",
      "---   ------                          -----  \n",
      " 0    List Price                      int64  \n",
      " 1    Tax Amount                      float64\n",
      " 2    Total Market Value              int64  \n",
      " 3    Market Value Land               int64  \n",
      " 4    Market Value Improvement        int64  \n",
      " 5    Estimated Value                 float64\n",
      " 6    Lot SQFT                        float64\n",
      " 7    Beds                            float64\n",
      " 8    Baths                           float64\n",
      " 9    Total Building Area             int64  \n",
      " 10   Living Area SQFT                float64\n",
      " 11   Garage SQFT                     float64\n",
      " 12   Parking spaces                  int64  \n",
      " 13   County Use Code_03              int64  \n",
      " 14   County Use Code_04              int64  \n",
      " 15   County Use Code_05              int64  \n",
      " 16   County Use Code_111             int64  \n",
      " 17   County Use Code_13              int64  \n",
      " 18   County Use Code_14              int64  \n",
      " 19   County Use Code_15              int64  \n",
      " 20   County Use Code_16              int64  \n",
      " 21   County Use Code_18              int64  \n",
      " 22   County Use Code_21              int64  \n",
      " 23   County Use Code_23              int64  \n",
      " 24   County Use Code_A1              int64  \n",
      " 25   County Use Code_A3              int64  \n",
      " 26   County Use Code_A4              int64  \n",
      " 27   County Use Code_A5              int64  \n",
      " 28   County Use Code_A6              int64  \n",
      " 29   County Use Code_A9              int64  \n",
      " 30   County Use Code_E1              int64  \n",
      " 31   County Use Code_E4              int64  \n",
      " 32   County Use Code_OA              int64  \n",
      " 33   County Use Code_TOWNHOME        int64  \n",
      " 34   New Construction_False          int64  \n",
      " 35   New Construction_True           int64  \n",
      " 36   Basement_No Basement            int64  \n",
      " 37   Basement_Unspecified Basement   int64  \n",
      " 38   Year Built_1928.0               int64  \n",
      " 39   Year Built_1930.0               int64  \n",
      " 40   Year Built_1940.0               int64  \n",
      " 41   Year Built_1948.0               int64  \n",
      " 42   Year Built_1950.0               int64  \n",
      " 43   Year Built_1952.0               int64  \n",
      " 44   Year Built_1953.0               int64  \n",
      " 45   Year Built_1954.0               int64  \n",
      " 46   Year Built_1955.0               int64  \n",
      " 47   Year Built_1956.0               int64  \n",
      " 48   Year Built_1957.0               int64  \n",
      " 49   Year Built_1958.0               int64  \n",
      " 50   Year Built_1959.0               int64  \n",
      " 51   Year Built_1960.0               int64  \n",
      " 52   Year Built_1961.0               int64  \n",
      " 53   Year Built_1962.0               int64  \n",
      " 54   Year Built_1963.0               int64  \n",
      " 55   Year Built_1964.0               int64  \n",
      " 56   Year Built_1965.0               int64  \n",
      " 57   Year Built_1966.0               int64  \n",
      " 58   Year Built_1967.0               int64  \n",
      " 59   Year Built_1968.0               int64  \n",
      " 60   Year Built_1969.0               int64  \n",
      " 61   Year Built_1970.0               int64  \n",
      " 62   Year Built_1971.0               int64  \n",
      " 63   Year Built_1972.0               int64  \n",
      " 64   Year Built_1973.0               int64  \n",
      " 65   Year Built_1974.0               int64  \n",
      " 66   Year Built_1975.0               int64  \n",
      " 67   Year Built_1976.0               int64  \n",
      " 68   Year Built_1977.0               int64  \n",
      " 69   Year Built_1978.0               int64  \n",
      " 70   Year Built_1979.0               int64  \n",
      " 71   Year Built_1980.0               int64  \n",
      " 72   Year Built_1981.0               int64  \n",
      " 73   Year Built_1982.0               int64  \n",
      " 74   Year Built_1983.0               int64  \n",
      " 75   Year Built_1984.0               int64  \n",
      " 76   Year Built_1985.0               int64  \n",
      " 77   Year Built_1986.0               int64  \n",
      " 78   Year Built_1987.0               int64  \n",
      " 79   Year Built_1988.0               int64  \n",
      " 80   Year Built_1989.0               int64  \n",
      " 81   Year Built_1990.0               int64  \n",
      " 82   Year Built_1991.0               int64  \n",
      " 83   Year Built_1992.0               int64  \n",
      " 84   Year Built_1993.0               int64  \n",
      " 85   Year Built_1994.0               int64  \n",
      " 86   Year Built_1995.0               int64  \n",
      " 87   Year Built_1996.0               int64  \n",
      " 88   Year Built_1997.0               int64  \n",
      " 89   Year Built_1998.0               int64  \n",
      " 90   Year Built_1999.0               int64  \n",
      " 91   Year Built_2000.0               int64  \n",
      " 92   Year Built_2001.0               int64  \n",
      " 93   Year Built_2002.0               int64  \n",
      " 94   Year Built_2003.0               int64  \n",
      " 95   Year Built_2004.0               int64  \n",
      " 96   Year Built_2005.0               int64  \n",
      " 97   Year Built_2006.0               int64  \n",
      " 98   Year Built_2007.0               int64  \n",
      " 99   Year Built_2008.0               int64  \n",
      " 100  Year Built_2009.0               int64  \n",
      " 101  Year Built_2010.0               int64  \n",
      " 102  Year Built_2011.0               int64  \n",
      " 103  Year Built_2012.0               int64  \n",
      " 104  Year Built_2013.0               int64  \n",
      " 105  Year Built_2014.0               int64  \n",
      " 106  Year Built_2015.0               int64  \n",
      " 107  Year Built_2016.0               int64  \n",
      " 108  Year Built_2017.0               int64  \n",
      " 109  Year Built_2018.0               int64  \n",
      " 110  Year Built_2019.0               int64  \n",
      " 111  Year Built_2020.0               int64  \n",
      " 112  Air conditioning_Central        int64  \n",
      " 113  Air conditioning_WindowUnit     int64  \n",
      " 114  Air conditioning_Yes            int64  \n",
      " 115  Heat Type_Central               int64  \n",
      " 116  Heat Type_Gas                   int64  \n",
      " 117  Heat Type_Solar                 int64  \n",
      " 118  Heat Type_Yes                   int64  \n",
      " 119  Fireplace indicator_False       int64  \n",
      " 120  Fireplace indicator_True        int64  \n",
      " 121  Porch Type_None                 int64  \n",
      " 122  Porch Type_Porch                int64  \n",
      " 123  Porch Type_Porch - Open         int64  \n",
      " 124  Porch Type_Porch covered        int64  \n",
      " 125  Has Pool_None                   int64  \n",
      " 126  Has Pool_Pool & Spa (both)      int64  \n",
      " 127  Has Pool_Pool (yes)             int64  \n",
      " 128  Has Pool_Spa or Hot Tub (only)  int64  \n",
      " 129  Stories_1 Story                 int64  \n",
      " 130  Stories_1.5 Stories             int64  \n",
      " 131  Stories_2 Stories               int64  \n",
      " 132  Stories_2.5 Stories             int64  \n",
      " 133  Stories_3 Stories               int64  \n",
      "dtypes: float64(7), int64(127)\n",
      "memory usage: 4.7 MB\n"
     ]
    }
   ],
   "source": [
    "X_big.info(verbose=True)"
   ]
  },
  {
   "cell_type": "code",
   "execution_count": 30,
   "metadata": {},
   "outputs": [],
   "source": [
    "X_med = homes_onehot.drop(columns='Sales Price')\n",
    "X_med = X_med.drop(columns=filter_col1)\n",
    "X_med = X_med.drop(columns=['List Price', 'Estimated Value'])\n",
    "y = homes_onehot[['Sales Price']]\n",
    "X_med_train, X_med_test, y_med_train, y_med_test = train_test_split(X_med, y, test_size=0.25, random_state=25)"
   ]
  },
  {
   "cell_type": "code",
   "execution_count": 31,
   "metadata": {},
   "outputs": [],
   "source": [
    "X_med2 = homes_onehot.drop(columns=['Sales Price'])\n",
    "X_med2 = X_med2.drop(columns=filter_col1)\n",
    "X_med2 = X_med2.drop(columns=['List Price', 'Estimated Value', 'Total Market Value', 'Market Value Land', 'Market Value Improvement'])\n",
    "y = homes_onehot[['Sales Price']]\n",
    "X_med2_train, X_med2_test, y_med2_train, y_med2_test = train_test_split(X_med2, y, test_size=0.25, random_state=25)"
   ]
  },
  {
   "cell_type": "markdown",
   "metadata": {},
   "source": [
    "Create X for only location columns, split data"
   ]
  },
  {
   "cell_type": "code",
   "execution_count": 50,
   "metadata": {},
   "outputs": [],
   "source": [
    "\n",
    "X_loc = homes_onehot[filter_col1]\n",
    "X_loc_train, X_loc_test, y_loc_train, y_loc_test = train_test_split(X_loc, y, test_size=0.25, random_state=25)"
   ]
  },
  {
   "cell_type": "markdown",
   "metadata": {},
   "source": [
    "Create filter for streamlined model columns"
   ]
  },
  {
   "cell_type": "code",
   "execution_count": 51,
   "metadata": {},
   "outputs": [],
   "source": [
    "filter_col6 = [col for col in homes_onehot if col.startswith('Porch') or col.startswith('Has Pool') or col.startswith('Stories')]\n",
    "filter_9 = ['Lot SQFT', 'Beds', 'Baths', 'Living Area SQFT']\n",
    "filter_join = filter_col6 + filter_9"
   ]
  },
  {
   "cell_type": "markdown",
   "metadata": {},
   "source": [
    "Create X for streamlined model, split data"
   ]
  },
  {
   "cell_type": "code",
   "execution_count": 52,
   "metadata": {},
   "outputs": [],
   "source": [
    "X_small = homes_onehot[filter_join]\n",
    "X_small_train, X_small_test, y_small_train, y_small_test = train_test_split(X_small, y, test_size=0.25, random_state=25)"
   ]
  },
  {
   "cell_type": "markdown",
   "metadata": {},
   "source": [
    "Create Pipeline for logistic regression"
   ]
  },
  {
   "cell_type": "code",
   "execution_count": 24,
   "metadata": {},
   "outputs": [
    {
     "data": {
      "text/plain": [
       "(3446, 1)"
      ]
     },
     "execution_count": 24,
     "metadata": {},
     "output_type": "execute_result"
    }
   ],
   "source": [
    "y_train.shape\n"
   ]
  },
  {
   "cell_type": "markdown",
   "metadata": {},
   "source": [
    "SVR"
   ]
  },
  {
   "cell_type": "code",
   "execution_count": 22,
   "metadata": {
    "scrolled": true
   },
   "outputs": [
    {
     "name": "stderr",
     "output_type": "stream",
     "text": [
      "C:\\Users\\jdgil\\anaconda3\\lib\\site-packages\\sklearn\\utils\\validation.py:63: DataConversionWarning: A column-vector y was passed when a 1d array was expected. Please change the shape of y to (n_samples, ), for example using ravel().\n",
      "  return f(*args, **kwargs)\n"
     ]
    },
    {
     "name": "stdout",
     "output_type": "stream",
     "text": [
      "It takes 27.238007338841758 minutes\n"
     ]
    }
   ],
   "source": [
    "start = time.time()\n",
    "gsc = GridSearchCV(\n",
    "        estimator=SVR(kernel='rbf'),\n",
    "        param_grid={\n",
    "            'C': [0.1, 1, 100, 1000],\n",
    "            'epsilon': [0.0001, 0.0005, 0.001, 0.005, 0.01, 0.05, 0.1, 0.5, 1, 5, 10],\n",
    "            'gamma': [0.0001, 0.001, 0.005, 0.1, 1, 3, 5]\n",
    "        },\n",
    "        cv=5, scoring='neg_mean_squared_error', verbose=0, n_jobs=-1)\n",
    "\n",
    "grid_result = gsc.fit(X_small_train, y_train)\n",
    "best_params = grid_result.best_params_\n",
    "best_svr = SVR(kernel='rbf', C=best_params[\"C\"], epsilon=best_params[\"epsilon\"], gamma=best_params[\"gamma\"],\n",
    "                   coef0=0.1, shrinking=True,\n",
    "                   tol=0.001, cache_size=200, verbose=False, max_iter=-1)\n",
    "\n",
    "\n",
    "print('It takes %s minutes' % ((time.time() - start)/60))\n",
    "\n",
    "y_pred = gsc.predict(X_small_test)\n"
   ]
  },
  {
   "cell_type": "code",
   "execution_count": 25,
   "metadata": {},
   "outputs": [
    {
     "data": {
      "text/plain": [
       "(116322.37808970716, 109472.98517081025)"
      ]
     },
     "execution_count": 25,
     "metadata": {},
     "output_type": "execute_result"
    }
   ],
   "source": [
    "y_tr_pred = gsc.predict(X_small_train)\n",
    "\n",
    "mae = mean_absolute_error(y_train, y_tr_pred), mean_absolute_error(y_test, y_pred)\n",
    "mae\n",
    "r2 = r2_score(y_train, y_tr_pred), r2_score(y_test, y_te_pred)\n",
    "r2"
   ]
  },
  {
   "cell_type": "markdown",
   "metadata": {},
   "source": [
    "Random Forest Regressor with pipeline"
   ]
  },
  {
   "cell_type": "code",
   "execution_count": 29,
   "metadata": {},
   "outputs": [
    {
     "name": "stderr",
     "output_type": "stream",
     "text": [
      "C:\\Users\\jdgil\\anaconda3\\lib\\site-packages\\sklearn\\pipeline.py:346: DataConversionWarning: A column-vector y was passed when a 1d array was expected. Please change the shape of y to (n_samples,), for example using ravel().\n",
      "  self._final_estimator.fit(Xt, y, **fit_params_last_step)\n"
     ]
    },
    {
     "name": "stdout",
     "output_type": "stream",
     "text": [
      "{'rfr__max_depth': 6, 'rfr__n_estimators': 1000}\n",
      "It takes 1.7904481609662375 minutes\n"
     ]
    }
   ],
   "source": [
    "start = time.time()\n",
    "\n",
    "steps = [('scaler', StandardScaler()), ('rfr', RandomForestRegressor())]\n",
    "pipe = Pipeline(steps)\n",
    "randomforest = GridSearchCV(\n",
    "        estimator=pipe,\n",
    "        param_grid={\n",
    "            'rfr__max_depth': range(3,7),\n",
    "            'rfr__n_estimators': (10, 50, 100, 1000, 1500),\n",
    "         },\n",
    "        cv=5, scoring='neg_mean_squared_error', verbose=0, n_jobs=-1)\n",
    "\n",
    "grid_result = randomforest.fit(X_small_train, y_train)\n",
    "best_params = randomforest.best_params_\n",
    "print(best_params)\n",
    "\n",
    "\n",
    "print('It takes %s minutes' % ((time.time() - start)/60))\n",
    "\n",
    "y_pred_rf = randomforest.predict(X_small_test)\n"
   ]
  },
  {
   "cell_type": "code",
   "execution_count": 30,
   "metadata": {},
   "outputs": [
    {
     "data": {
      "text/plain": [
       "(72059.48733429158, 77196.72983940732)"
      ]
     },
     "execution_count": 30,
     "metadata": {},
     "output_type": "execute_result"
    }
   ],
   "source": [
    "y_tr_pred_rf = randomforest.predict(X_small_train)\n",
    "\n",
    "median_mae_rf = mean_absolute_error(y_train, y_tr_pred_rf), mean_absolute_error(y_test, y_pred_rf)\n",
    "median_mae_rf"
   ]
  },
  {
   "cell_type": "code",
   "execution_count": null,
   "metadata": {},
   "outputs": [],
   "source": [
    "modified from: https://towardsdatascience.com/hyperparameter-tuning-the-random-forest-in-python-using-scikit-learn-28d2aa77dd74"
   ]
  },
  {
   "cell_type": "markdown",
   "metadata": {},
   "source": [
    "Random Forest with more hyperparameters and random search"
   ]
  },
  {
   "cell_type": "code",
   "execution_count": 35,
   "metadata": {},
   "outputs": [
    {
     "name": "stdout",
     "output_type": "stream",
     "text": [
      "Fitting 5 folds for each of 100 candidates, totalling 500 fits\n"
     ]
    },
    {
     "name": "stderr",
     "output_type": "stream",
     "text": [
      "C:\\Users\\jdgil\\anaconda3\\lib\\site-packages\\sklearn\\pipeline.py:346: DataConversionWarning: A column-vector y was passed when a 1d array was expected. Please change the shape of y to (n_samples,), for example using ravel().\n",
      "  self._final_estimator.fit(Xt, y, **fit_params_last_step)\n"
     ]
    },
    {
     "name": "stdout",
     "output_type": "stream",
     "text": [
      "{'rfr__max_depth': 6, 'rfr__n_estimators': 1000}\n",
      "It takes 27.31163688500722 minutes\n"
     ]
    }
   ],
   "source": [
    "start = time.time()\n",
    "\n",
    "steps = [('scaler', StandardScaler()), ('rfr', RandomForestRegressor())]\n",
    "pipe = Pipeline(steps)\n",
    "\n",
    "\n",
    "n_estimators = [int(x) for x in np.linspace(start = 200, stop = 2000, num = 10)]\n",
    "max_features = ['auto', 'sqrt']\n",
    "max_depth = [int(x) for x in np.linspace(10, 110, num = 11)]\n",
    "max_depth.append(None)\n",
    "min_samples_split = [2, 5, 10]\n",
    "min_samples_leaf = [1, 2, 4]\n",
    "bootstrap = [True, False]\n",
    "\n",
    "random_grid = {'rfr__n_estimators': n_estimators,\n",
    "               'rfr__max_features': max_features,\n",
    "               'rfr__max_depth': max_depth,\n",
    "               'rfr__min_samples_split': min_samples_split,\n",
    "               'rfr__min_samples_leaf': min_samples_leaf,\n",
    "               'rfr__bootstrap': bootstrap}\n",
    "\n",
    "randomforest2 = RandomizedSearchCV(\n",
    "        estimator=pipe,\n",
    "        param_distributions = random_grid, n_iter = 100, cv = 5, verbose=2, random_state=42, n_jobs = -1)\n",
    "\n",
    "grid_result2 = randomforest2.fit(X_small_train, y_train)\n",
    "best_params2 = randomforest2.best_params_\n",
    "print(best_params)\n",
    "\n",
    "\n",
    "print('It takes %s minutes' % ((time.time() - start)/60))\n",
    "\n",
    "y_pred_rf2 = randomforest2.predict(X_small_test)"
   ]
  },
  {
   "cell_type": "code",
   "execution_count": 36,
   "metadata": {},
   "outputs": [
    {
     "name": "stdout",
     "output_type": "stream",
     "text": [
      "{'rfr__max_depth': 6, 'rfr__n_estimators': 1000}\n"
     ]
    },
    {
     "data": {
      "text/plain": [
       "(67369.7948395221, 74960.16758888104)"
      ]
     },
     "execution_count": 36,
     "metadata": {},
     "output_type": "execute_result"
    }
   ],
   "source": [
    "y_tr_pred_rf2 = randomforest2.predict(X_small_train)\n",
    "print(best_params2)\n",
    "\n",
    "median_mae_rf2 = mean_absolute_error(y_train, y_tr_pred_rf2), mean_absolute_error(y_test, y_pred_rf2)\n",
    "median_mae_rf2"
   ]
  },
  {
   "cell_type": "markdown",
   "metadata": {},
   "source": [
    "Lasso Regression Model"
   ]
  },
  {
   "cell_type": "code",
   "execution_count": 38,
   "metadata": {},
   "outputs": [
    {
     "name": "stdout",
     "output_type": "stream",
     "text": [
      "It takes 0.03310169378916423 minutes\n",
      "{'rfr__max_depth': 6, 'rfr__n_estimators': 1000}\n"
     ]
    },
    {
     "data": {
      "text/plain": [
       "(77402.07323408558, 76580.30985726205)"
      ]
     },
     "execution_count": 38,
     "metadata": {},
     "output_type": "execute_result"
    }
   ],
   "source": [
    "start = time.time()\n",
    "lasso = GridSearchCV(\n",
    "        estimator=Lasso(),\n",
    "        param_grid={\n",
    "            'alpha': np.array([5, 0.5, 0.05, 0.005, 0.0005, 1, 0.1, 0.01, 0.001, 0.0001, 0 ]),      \n",
    "        },\n",
    "        cv=5, scoring='neg_mean_squared_error', verbose=0, n_jobs=-1)\n",
    "\n",
    "grid_result_lasso = lasso.fit(X_small_train, y_train)\n",
    "best_params_lasso = lasso.best_params_\n",
    "\n",
    "\n",
    "\n",
    "print('It takes %s minutes' % ((time.time() - start)/60))\n",
    "\n",
    "y_pred_lasso = lasso.predict(X_small_test)\n",
    "y_tr_pred_lasso = lasso.predict(X_small_train)\n",
    "print(best_params_lasso)\n",
    "\n",
    "median_mae_lasso = mean_absolute_error(y_train, y_tr_pred_lasso), mean_absolute_error(y_test, y_pred_lasso)\n",
    "median_mae_lasso"
   ]
  },
  {
   "cell_type": "code",
   "execution_count": 48,
   "metadata": {},
   "outputs": [
    {
     "name": "stderr",
     "output_type": "stream",
     "text": [
      "C:\\Users\\jdgil\\anaconda3\\lib\\site-packages\\sklearn\\linear_model\\_coordinate_descent.py:530: ConvergenceWarning: Objective did not converge. You might want to increase the number of iterations. Duality gap: 1434273790398.3267, tolerance: 8484597905.043683\n",
      "  model = cd_fast.enet_coordinate_descent(\n"
     ]
    },
    {
     "name": "stdout",
     "output_type": "stream",
     "text": [
      "It takes 16.987457585334777 minutes\n",
      "{'rfr__max_depth': 6, 'rfr__n_estimators': 1000}\n"
     ]
    },
    {
     "data": {
      "text/plain": [
       "(18660.171607341425, 100715.1710630098)"
      ]
     },
     "execution_count": 48,
     "metadata": {},
     "output_type": "execute_result"
    }
   ],
   "source": [
    "start = time.time()\n",
    "lasso2 = GridSearchCV(\n",
    "        estimator=Lasso(),\n",
    "        param_grid={\n",
    "            'alpha': np.array([5, 0.5, 0.05, 0.005, 0.0005, 1, 0.1, 0.01, 0.001, 0.0001, 0 ]),      \n",
    "        },\n",
    "        cv=5, scoring='neg_mean_squared_error', verbose=0, n_jobs=-1)\n",
    "\n",
    "grid_result_lasso2 = lasso2.fit(X_loc_train, y_train)\n",
    "best_params_lasso2 = lasso2.best_params_\n",
    "\n",
    "\n",
    "\n",
    "print('It takes %s minutes' % ((time.time() - start)/60))\n",
    "\n",
    "y_pred_lasso2 = lasso2.predict(X_loc_test)\n",
    "y_tr_pred_lasso2 = lasso2.predict(X_loc_train)\n",
    "print(best_params_lasso2)\n",
    "\n",
    "median_mae_lasso2 = mean_absolute_error(y_train, y_tr_pred_lasso2), mean_absolute_error(y_test, y_pred_lasso2)\n",
    "median_mae_lasso2"
   ]
  },
  {
   "cell_type": "code",
   "execution_count": null,
   "metadata": {},
   "outputs": [],
   "source": []
  },
  {
   "cell_type": "code",
   "execution_count": 36,
   "metadata": {},
   "outputs": [
    {
     "name": "stdout",
     "output_type": "stream",
     "text": [
      "It takes 248.02722691694896 minutes\n",
      "{'alpha': 9.0}\n",
      "(64532.72864320237, 66370.50859484464)\n"
     ]
    },
    {
     "data": {
      "text/plain": [
       "(0.6807059395705326, 0.584563960811793)"
      ]
     },
     "execution_count": 36,
     "metadata": {},
     "output_type": "execute_result"
    }
   ],
   "source": [
    "start = time.time()\n",
    "lasso3 = GridSearchCV(\n",
    "        estimator=Lasso(max_iter = 100000),\n",
    "        param_grid={\n",
    "            'alpha': np.array([9, 7, 5, 0.5, 0.05, 0.005, 0.0005, 1, 0.1, 0.01, 0.001, 0.0001, 0 ]),      \n",
    "        },\n",
    "        cv=5, scoring='neg_mean_squared_error', verbose=0, n_jobs=-1)\n",
    "\n",
    "grid_result_lasso3 = lasso3.fit(X_big_train, y_big_train)\n",
    "best_params_lasso3 = lasso3.best_params_\n",
    "\n",
    "\n",
    "\n",
    "print('It takes %s minutes' % ((time.time() - start)/60))\n",
    "\n",
    "y_pred_lasso3 = lasso3.predict(X_big_test)\n",
    "y_tr_pred_lasso3 = lasso3.predict(X_big_train)\n",
    "print(best_params_lasso3)\n",
    "\n",
    "median_mae_lasso3 = mean_absolute_error(y_big_train, y_tr_pred_lasso3), mean_absolute_error(y_big_test, y_pred_lasso3)\n",
    "print(median_mae_lasso3)\n",
    "r2_score(y_big_train, y_tr_pred_lasso3), r2_score(y_big_test, y_pred_lasso3)"
   ]
  },
  {
   "cell_type": "code",
   "execution_count": 6,
   "metadata": {},
   "outputs": [
    {
     "name": "stderr",
     "output_type": "stream",
     "text": [
      "C:\\Users\\jdgil\\anaconda3\\lib\\site-packages\\sklearn\\linear_model\\_coordinate_descent.py:530: ConvergenceWarning: Objective did not converge. You might want to increase the number of iterations. Duality gap: 3707446260583.511, tolerance: 8484597905.043683\n",
      "  model = cd_fast.enet_coordinate_descent(\n"
     ]
    },
    {
     "name": "stdout",
     "output_type": "stream",
     "text": [
      "It takes 13.890787335236867 minutes\n",
      "{'alpha': 5.0}\n",
      "(17779.552013933346, 78696.5119368566)\n"
     ]
    },
    {
     "data": {
      "text/plain": [
       "(0.9736190822228539, 0.42084488741792847)"
      ]
     },
     "execution_count": 6,
     "metadata": {},
     "output_type": "execute_result"
    }
   ],
   "source": [
    "start = time.time()\n",
    "lasso4 = GridSearchCV(\n",
    "        estimator=Lasso(),\n",
    "        param_grid={\n",
    "            'alpha': np.array([5, 0.5, 0.05, 0.005, 0.0005, 1, 0.1, 0.01, 0.001, 0.0001, 0 ]),      \n",
    "        },\n",
    "        cv=5, scoring='neg_mean_squared_error', verbose=0, n_jobs=-1)\n",
    "\n",
    "grid_result_lasso4 = lasso4.fit(X_big_train, y_big_train)\n",
    "best_params_lasso4 = lasso4.best_params_\n",
    "\n",
    "\n",
    "\n",
    "print('It takes %s minutes' % ((time.time() - start)/60))\n",
    "\n",
    "y_pred_lasso4 = lasso4.predict(X_big_test)\n",
    "y_tr_pred_lasso4 = lasso4.predict(X_big_train)\n",
    "print(best_params_lasso4)\n",
    "\n",
    "median_mae_lasso4 = mean_absolute_error(y_big_train, y_tr_pred_lasso4), mean_absolute_error(y_big_test, y_pred_lasso4)\n",
    "print(median_mae_lasso4)\n",
    "r2_score(y_big_train, y_tr_pred_lasso4), r2_score(y_big_test, y_pred_lasso4)"
   ]
  },
  {
   "cell_type": "markdown",
   "metadata": {},
   "source": [
    "Lasso 4 is the best model. It doesn't have the best MAE but it is only 3% worse than lasso 3 but runs in less than 1% of the time."
   ]
  },
  {
   "cell_type": "code",
   "execution_count": 17,
   "metadata": {},
   "outputs": [
    {
     "name": "stdout",
     "output_type": "stream",
     "text": [
      "It takes 10.389898284276326 minutes\n",
      "{'alpha': 5.0}\n",
      "(0.247553744947415, 0.27477989663850255)\n"
     ]
    },
    {
     "data": {
      "text/plain": [
       "(0.9999999999870326, 0.9999999999277683)"
      ]
     },
     "execution_count": 17,
     "metadata": {},
     "output_type": "execute_result"
    }
   ],
   "source": [
    "start = time.time()\n",
    "lasso5 = GridSearchCV(\n",
    "        estimator=Lasso(),\n",
    "        param_grid={\n",
    "            'alpha': np.array([5, 0.5, 0.05, 0.005, 0.0005, 1, 0.1, 0.01, 0.001, 0.0001, 0 ]),      \n",
    "        },\n",
    "        cv=5, scoring='neg_mean_squared_error', verbose=0, n_jobs=-1)\n",
    "\n",
    "grid_result_lasso5 = lasso5.fit(X_med2_train, y_med2_train)\n",
    "best_params_lasso5 = lasso5.best_params_\n",
    "\n",
    "\n",
    "\n",
    "print('It takes %s minutes' % ((time.time() - start)/60))\n",
    "\n",
    "y_pred_lasso5 = lasso5.predict(X_med2_test)\n",
    "y_tr_pred_lasso5 = lasso5.predict(X_med2_train)\n",
    "print(best_params_lasso5)\n",
    "\n",
    "median_mae_lasso5 = mean_absolute_error(y_med2_train, y_tr_pred_lasso5), mean_absolute_error(y_med2_test, y_pred_lasso5)\n",
    "print(median_mae_lasso5)\n",
    "r2_score(y_med2_train, y_tr_pred_lasso5), r2_score(y_med2_test, y_pred_lasso5)"
   ]
  },
  {
   "cell_type": "code",
   "execution_count": 58,
   "metadata": {},
   "outputs": [
    {
     "data": {
      "text/html": [
       "<div>\n",
       "<style scoped>\n",
       "    .dataframe tbody tr th:only-of-type {\n",
       "        vertical-align: middle;\n",
       "    }\n",
       "\n",
       "    .dataframe tbody tr th {\n",
       "        vertical-align: top;\n",
       "    }\n",
       "\n",
       "    .dataframe thead th {\n",
       "        text-align: right;\n",
       "    }\n",
       "</style>\n",
       "<table border=\"1\" class=\"dataframe\">\n",
       "  <thead>\n",
       "    <tr style=\"text-align: right;\">\n",
       "      <th></th>\n",
       "      <th>List Price</th>\n",
       "      <th>Tax Amount</th>\n",
       "      <th>Total Market Value</th>\n",
       "      <th>Market Value Land</th>\n",
       "      <th>Market Value Improvement</th>\n",
       "      <th>Estimated Value</th>\n",
       "      <th>Lot SQFT</th>\n",
       "      <th>Beds</th>\n",
       "      <th>Baths</th>\n",
       "      <th>Total Building Area</th>\n",
       "      <th>...</th>\n",
       "      <th>Porch Type_Porch covered</th>\n",
       "      <th>Has Pool_None</th>\n",
       "      <th>Has Pool_Pool &amp; Spa (both)</th>\n",
       "      <th>Has Pool_Pool (yes)</th>\n",
       "      <th>Has Pool_Spa or Hot Tub (only)</th>\n",
       "      <th>Stories_1 Story</th>\n",
       "      <th>Stories_1.5 Stories</th>\n",
       "      <th>Stories_2 Stories</th>\n",
       "      <th>Stories_2.5 Stories</th>\n",
       "      <th>Stories_3 Stories</th>\n",
       "    </tr>\n",
       "  </thead>\n",
       "  <tbody>\n",
       "    <tr>\n",
       "      <th>1183</th>\n",
       "      <td>292900</td>\n",
       "      <td>5309.21</td>\n",
       "      <td>260119</td>\n",
       "      <td>70000</td>\n",
       "      <td>190119</td>\n",
       "      <td>303099.0</td>\n",
       "      <td>5662.80</td>\n",
       "      <td>3.0</td>\n",
       "      <td>2.0</td>\n",
       "      <td>1865</td>\n",
       "      <td>...</td>\n",
       "      <td>1</td>\n",
       "      <td>1</td>\n",
       "      <td>0</td>\n",
       "      <td>0</td>\n",
       "      <td>0</td>\n",
       "      <td>1</td>\n",
       "      <td>0</td>\n",
       "      <td>0</td>\n",
       "      <td>0</td>\n",
       "      <td>0</td>\n",
       "    </tr>\n",
       "    <tr>\n",
       "      <th>2431</th>\n",
       "      <td>1050000</td>\n",
       "      <td>17083.26</td>\n",
       "      <td>849500</td>\n",
       "      <td>190752</td>\n",
       "      <td>658748</td>\n",
       "      <td>685313.0</td>\n",
       "      <td>20386.08</td>\n",
       "      <td>5.0</td>\n",
       "      <td>5.1</td>\n",
       "      <td>5946</td>\n",
       "      <td>...</td>\n",
       "      <td>0</td>\n",
       "      <td>0</td>\n",
       "      <td>1</td>\n",
       "      <td>0</td>\n",
       "      <td>0</td>\n",
       "      <td>0</td>\n",
       "      <td>0</td>\n",
       "      <td>1</td>\n",
       "      <td>0</td>\n",
       "      <td>0</td>\n",
       "    </tr>\n",
       "    <tr>\n",
       "      <th>2876</th>\n",
       "      <td>280000</td>\n",
       "      <td>6586.17</td>\n",
       "      <td>277883</td>\n",
       "      <td>60000</td>\n",
       "      <td>217883</td>\n",
       "      <td>275393.0</td>\n",
       "      <td>1742.40</td>\n",
       "      <td>2.0</td>\n",
       "      <td>2.1</td>\n",
       "      <td>1663</td>\n",
       "      <td>...</td>\n",
       "      <td>0</td>\n",
       "      <td>1</td>\n",
       "      <td>0</td>\n",
       "      <td>0</td>\n",
       "      <td>0</td>\n",
       "      <td>0</td>\n",
       "      <td>0</td>\n",
       "      <td>1</td>\n",
       "      <td>0</td>\n",
       "      <td>0</td>\n",
       "    </tr>\n",
       "    <tr>\n",
       "      <th>200</th>\n",
       "      <td>359900</td>\n",
       "      <td>6938.22</td>\n",
       "      <td>306984</td>\n",
       "      <td>75000</td>\n",
       "      <td>231984</td>\n",
       "      <td>387451.0</td>\n",
       "      <td>6534.00</td>\n",
       "      <td>3.0</td>\n",
       "      <td>2.0</td>\n",
       "      <td>2218</td>\n",
       "      <td>...</td>\n",
       "      <td>1</td>\n",
       "      <td>1</td>\n",
       "      <td>0</td>\n",
       "      <td>0</td>\n",
       "      <td>0</td>\n",
       "      <td>1</td>\n",
       "      <td>0</td>\n",
       "      <td>0</td>\n",
       "      <td>0</td>\n",
       "      <td>0</td>\n",
       "    </tr>\n",
       "    <tr>\n",
       "      <th>3180</th>\n",
       "      <td>1200000</td>\n",
       "      <td>22770.08</td>\n",
       "      <td>1115238</td>\n",
       "      <td>250000</td>\n",
       "      <td>865238</td>\n",
       "      <td>763293.0</td>\n",
       "      <td>20037.60</td>\n",
       "      <td>5.0</td>\n",
       "      <td>5.1</td>\n",
       "      <td>5266</td>\n",
       "      <td>...</td>\n",
       "      <td>1</td>\n",
       "      <td>0</td>\n",
       "      <td>0</td>\n",
       "      <td>1</td>\n",
       "      <td>0</td>\n",
       "      <td>0</td>\n",
       "      <td>0</td>\n",
       "      <td>1</td>\n",
       "      <td>0</td>\n",
       "      <td>0</td>\n",
       "    </tr>\n",
       "  </tbody>\n",
       "</table>\n",
       "<p>5 rows × 135 columns</p>\n",
       "</div>"
      ],
      "text/plain": [
       "      List Price  Tax Amount  Total Market Value  Market Value Land  \\\n",
       "1183      292900     5309.21              260119              70000   \n",
       "2431     1050000    17083.26              849500             190752   \n",
       "2876      280000     6586.17              277883              60000   \n",
       "200       359900     6938.22              306984              75000   \n",
       "3180     1200000    22770.08             1115238             250000   \n",
       "\n",
       "      Market Value Improvement  Estimated Value  Lot SQFT  Beds  Baths  \\\n",
       "1183                    190119         303099.0   5662.80   3.0    2.0   \n",
       "2431                    658748         685313.0  20386.08   5.0    5.1   \n",
       "2876                    217883         275393.0   1742.40   2.0    2.1   \n",
       "200                     231984         387451.0   6534.00   3.0    2.0   \n",
       "3180                    865238         763293.0  20037.60   5.0    5.1   \n",
       "\n",
       "      Total Building Area  ...  Porch Type_Porch covered  Has Pool_None  \\\n",
       "1183                 1865  ...                         1              1   \n",
       "2431                 5946  ...                         0              0   \n",
       "2876                 1663  ...                         0              1   \n",
       "200                  2218  ...                         1              1   \n",
       "3180                 5266  ...                         1              0   \n",
       "\n",
       "      Has Pool_Pool & Spa (both)  Has Pool_Pool (yes)  \\\n",
       "1183                           0                    0   \n",
       "2431                           1                    0   \n",
       "2876                           0                    0   \n",
       "200                            0                    0   \n",
       "3180                           0                    1   \n",
       "\n",
       "      Has Pool_Spa or Hot Tub (only)  Stories_1 Story  Stories_1.5 Stories  \\\n",
       "1183                               0                1                    0   \n",
       "2431                               0                0                    0   \n",
       "2876                               0                0                    0   \n",
       "200                                0                1                    0   \n",
       "3180                               0                0                    0   \n",
       "\n",
       "      Stories_2 Stories  Stories_2.5 Stories  Stories_3 Stories  \n",
       "1183                  0                    0                  0  \n",
       "2431                  1                    0                  0  \n",
       "2876                  1                    0                  0  \n",
       "200                   0                    0                  0  \n",
       "3180                  1                    0                  0  \n",
       "\n",
       "[5 rows x 135 columns]"
      ]
     },
     "execution_count": 58,
     "metadata": {},
     "output_type": "execute_result"
    }
   ],
   "source": [
    "X_big_train.head()"
   ]
  },
  {
   "cell_type": "code",
   "execution_count": null,
   "metadata": {},
   "outputs": [],
   "source": [
    "Ridge Regression"
   ]
  },
  {
   "cell_type": "code",
   "execution_count": 39,
   "metadata": {},
   "outputs": [
    {
     "name": "stdout",
     "output_type": "stream",
     "text": [
      "It takes 0.01819832722345988 minutes\n",
      "{'rfr__max_depth': 6, 'rfr__n_estimators': 1000}\n"
     ]
    },
    {
     "data": {
      "text/plain": [
       "(77419.21510192832, 76551.25721976442)"
      ]
     },
     "execution_count": 39,
     "metadata": {},
     "output_type": "execute_result"
    }
   ],
   "source": [
    "start = time.time()\n",
    "ridge = GridSearchCV(\n",
    "        estimator=Ridge(),\n",
    "        param_grid={\n",
    "            'alpha': np.array([5, 0.5, 0.05, 0.005, 0.0005, 1, 0.1, 0.01, 0.001, 0.0001, 0 ]),      \n",
    "        },\n",
    "        cv=5, scoring='neg_mean_squared_error', verbose=0, n_jobs=-1)\n",
    "\n",
    "grid_result_ridge = ridge.fit(X_small_train, y_train)\n",
    "best_params_ridge = ridge.best_params_\n",
    "\n",
    "\n",
    "\n",
    "print('It takes %s minutes' % ((time.time() - start)/60))\n",
    "\n",
    "y_pred_ridge = ridge.predict(X_small_test)\n",
    "y_tr_pred_ridge = ridge.predict(X_small_train)\n",
    "print(best_params_ridge)\n",
    "\n",
    "median_mae_ridge = mean_absolute_error(y_train, y_tr_pred_ridge), mean_absolute_error(y_test, y_pred_ridge)\n",
    "median_mae_ridge"
   ]
  },
  {
   "cell_type": "code",
   "execution_count": 44,
   "metadata": {},
   "outputs": [
    {
     "data": {
      "text/plain": [
       "(0.5543591126489431, 0.4843397034606334)"
      ]
     },
     "execution_count": 44,
     "metadata": {},
     "output_type": "execute_result"
    }
   ],
   "source": [
    "r2_score(y_train, y_tr_pred_ridge), r2_score(y_test, y_pred_ridge)"
   ]
  },
  {
   "cell_type": "code",
   "execution_count": 19,
   "metadata": {},
   "outputs": [
    {
     "name": "stdout",
     "output_type": "stream",
     "text": [
      "It takes 0.12040959596633911 minutes\n",
      "{'alpha': 5.0}\n",
      "(64574.6400763234, 66138.87389433612)\n"
     ]
    },
    {
     "data": {
      "text/plain": [
       "(0.6800450662050445, 0.5862190599510184)"
      ]
     },
     "execution_count": 19,
     "metadata": {},
     "output_type": "execute_result"
    }
   ],
   "source": [
    "start = time.time()\n",
    "ridge2 = GridSearchCV(\n",
    "        estimator=Ridge(),\n",
    "        param_grid={\n",
    "            'alpha': np.array([5, 0.5, 0.05, 0.005, 0.0005, 1, 0.1, 0.01, 0.001, 0.0001, 0 ]),      \n",
    "        },\n",
    "        cv=5, scoring='neg_mean_squared_error', verbose=0, n_jobs=-1)\n",
    "\n",
    "grid_result_ridge2 = ridge2.fit(X_big_train, y_big_train)\n",
    "best_params_ridge2 = ridge2.best_params_\n",
    "\n",
    "\n",
    "\n",
    "print('It takes %s minutes' % ((time.time() - start)/60))\n",
    "\n",
    "y_pred_ridge2 = ridge2.predict(X_big_test)\n",
    "y_tr_pred_ridge2 = ridge2.predict(X_big_train)\n",
    "print(best_params_ridge2)\n",
    "\n",
    "median_mae_ridge2 = mean_absolute_error(y_big_train, y_tr_pred_ridge2), mean_absolute_error(y_big_test, y_pred_ridge2)\n",
    "median_mae_ridge2\n",
    "\n",
    "print(median_mae_ridge2)\n",
    "r2_score(y_big_train, y_tr_pred_ridge2), r2_score(y_big_test, y_pred_ridge2)"
   ]
  },
  {
   "cell_type": "code",
   "execution_count": 43,
   "metadata": {},
   "outputs": [
    {
     "data": {
      "text/plain": [
       "(1.0, 1.0)"
      ]
     },
     "execution_count": 43,
     "metadata": {},
     "output_type": "execute_result"
    }
   ],
   "source": [
    "r2_score(y_train, y_tr_pred_ridge2), r2_score(y_test, y_pred_ridge2)"
   ]
  },
  {
   "cell_type": "code",
   "execution_count": null,
   "metadata": {},
   "outputs": [],
   "source": [
    "start = time.time()\n",
    "ridge2 = GridSearchCV(\n",
    "        estimator=Ridge(),\n",
    "        param_grid={\n",
    "            'alpha': np.array([5, 0.5, 0.05, 0.005, 0.0005, 1, 0.1, 0.01, 0.001, 0.0001, 0 ]),      \n",
    "        },\n",
    "        cv=5, scoring='neg_mean_squared_error', verbose=0, n_jobs=-1)\n",
    "\n",
    "grid_result_ridge2 = ridge2.fit(X_big_train, y_big_train)\n",
    "best_params_ridge2 = ridge2.best_params_\n",
    "\n",
    "\n",
    "\n",
    "print('It takes %s minutes' % ((time.time() - start)/60))\n",
    "\n",
    "y_pred_ridge2 = ridge2.predict(X_big_test)\n",
    "y_tr_pred_ridge2 = ridge2.predict(X_big_train)\n",
    "print(best_params_ridge2)\n",
    "\n",
    "median_mae_ridge2 = mean_absolute_error(y_big_train, y_tr_pred_ridge2), mean_absolute_error(y_test, y_pred_ridge2)\n",
    "median_mae_ridge2\n",
    "\n",
    "print(median_mae_ridge2)\n",
    "r2_score(y_big_train, y_tr_pred_ridge2), r2_score(y_big_test, y_pred_ridge2)"
   ]
  },
  {
   "cell_type": "markdown",
   "metadata": {},
   "source": [
    "Create pipeline for XGBoost"
   ]
  },
  {
   "cell_type": "markdown",
   "metadata": {},
   "source": [
    "Timing function"
   ]
  },
  {
   "cell_type": "code",
   "execution_count": null,
   "metadata": {},
   "outputs": [],
   "source": [
    "start = time.time()\n",
    "\n",
    "print('It takes %s minutes' % ((time.time() - start)/60))"
   ]
  },
  {
   "cell_type": "code",
   "execution_count": 55,
   "metadata": {},
   "outputs": [
    {
     "data": {
      "text/plain": [
       "0.9373219373219374"
      ]
     },
     "execution_count": 55,
     "metadata": {},
     "output_type": "execute_result"
    }
   ],
   "source": [
    "search.score(X,y)"
   ]
  },
  {
   "cell_type": "code",
   "execution_count": 16,
   "metadata": {},
   "outputs": [],
   "source": [
    "from xgboost import XGBRegressor"
   ]
  },
  {
   "cell_type": "code",
   "execution_count": 26,
   "metadata": {},
   "outputs": [
    {
     "name": "stdout",
     "output_type": "stream",
     "text": [
      "Fitting 5 folds for each of 100 candidates, totalling 500 fits\n",
      "{'xgbr__subsample': 0.5, 'xgbr__n_estimators': 1800, 'xgbr__max_depth': 2, 'xgbr__eta': 0.005, 'xgbr__colsample_bytree': 0.75}\n",
      "It takes 75.25825051069259 minutes\n",
      "(60930.19888094893, 64929.436901653615)\n"
     ]
    },
    {
     "name": "stderr",
     "output_type": "stream",
     "text": [
      "C:\\Users\\jdgil\\anaconda3\\lib\\site-packages\\xgboost\\data.py:112: UserWarning: Use subset (sliced data) of np.ndarray is not recommended because it will generate extra copies and increase memory consumption\n",
      "  warnings.warn(\n",
      "C:\\Users\\jdgil\\anaconda3\\lib\\site-packages\\xgboost\\data.py:112: UserWarning: Use subset (sliced data) of np.ndarray is not recommended because it will generate extra copies and increase memory consumption\n",
      "  warnings.warn(\n"
     ]
    },
    {
     "data": {
      "text/plain": [
       "(0.7200536463831246, 0.5873665760609141)"
      ]
     },
     "execution_count": 26,
     "metadata": {},
     "output_type": "execute_result"
    }
   ],
   "source": [
    "start = time.time()\n",
    "\n",
    "steps = [('scaler', StandardScaler()), ('xgbr', XGBRegressor())]\n",
    "pipe = Pipeline(steps)\n",
    "\n",
    "n_estimators = [int(x) for x in np.linspace(start = 200, stop = 2000, num = 10)]\n",
    "max_depth = [1,2,3,4,5,6,7,8,9,10]\n",
    "eta = [.001,.005,.01,.025,.05,.1,.2,.3]\n",
    "subsample = [.25,.5,.75,1]\n",
    "colsample_bytree = [.25,.5,.75,1]\n",
    "\n",
    "random_grid = {'xgbr__n_estimators': n_estimators,\n",
    "               'xgbr__max_depth': max_depth,\n",
    "               'xgbr__eta': eta,\n",
    "               'xgbr__subsample': subsample,\n",
    "               'xgbr__colsample_bytree': colsample_bytree}\n",
    "\n",
    "xgboost = RandomizedSearchCV(\n",
    "        estimator=pipe,\n",
    "        param_distributions = random_grid, n_iter = 100, cv = 5, verbose=2, random_state=42, n_jobs = -1)\n",
    "\n",
    "grid_result = xgboost.fit(X_big_train, y_big_train)\n",
    "best_params = xgboost.best_params_\n",
    "print(best_params)\n",
    "\n",
    "y_pred_xgboost = xgboost.predict(X_big_test)\n",
    "y_tr_pred_xgboost = xgboost.predict(X_big_train)\n",
    "\n",
    "\n",
    "\n",
    "print('It takes %s minutes' % ((time.time() - start)/60))\n",
    "median_mae_xgboost = mean_absolute_error(y_big_train, y_tr_pred_xgboost), mean_absolute_error(y_big_test, y_pred_xgboost)\n",
    "median_mae_xgboost\n",
    "\n",
    "print(median_mae_xgboost)\n",
    "\n",
    "\n",
    "r2_score(y_big_train, y_tr_pred_xgboost), r2_score(y_big_test, y_pred_xgboost)"
   ]
  },
  {
   "cell_type": "code",
   "execution_count": 108,
   "metadata": {},
   "outputs": [
    {
     "data": {
      "text/html": [
       "<div>\n",
       "<style scoped>\n",
       "    .dataframe tbody tr th:only-of-type {\n",
       "        vertical-align: middle;\n",
       "    }\n",
       "\n",
       "    .dataframe tbody tr th {\n",
       "        vertical-align: top;\n",
       "    }\n",
       "\n",
       "    .dataframe thead th {\n",
       "        text-align: right;\n",
       "    }\n",
       "</style>\n",
       "<table border=\"1\" class=\"dataframe\">\n",
       "  <thead>\n",
       "    <tr style=\"text-align: right;\">\n",
       "      <th></th>\n",
       "      <th>Tax Amount</th>\n",
       "      <th>Estimated Value</th>\n",
       "      <th>Lot SQFT</th>\n",
       "      <th>Beds</th>\n",
       "      <th>Baths</th>\n",
       "      <th>Living Area SQFT</th>\n",
       "      <th>Garage SQFT</th>\n",
       "      <th>Sales Price</th>\n",
       "    </tr>\n",
       "  </thead>\n",
       "  <tbody>\n",
       "    <tr>\n",
       "      <th>count</th>\n",
       "      <td>4595.000000</td>\n",
       "      <td>4.595000e+03</td>\n",
       "      <td>4595.000000</td>\n",
       "      <td>4595.000000</td>\n",
       "      <td>4595.000000</td>\n",
       "      <td>4595.000000</td>\n",
       "      <td>4595.000000</td>\n",
       "      <td>4.595000e+03</td>\n",
       "    </tr>\n",
       "    <tr>\n",
       "      <th>mean</th>\n",
       "      <td>7841.613012</td>\n",
       "      <td>4.188424e+05</td>\n",
       "      <td>8708.085319</td>\n",
       "      <td>3.688139</td>\n",
       "      <td>2.606855</td>\n",
       "      <td>2640.295756</td>\n",
       "      <td>490.321872</td>\n",
       "      <td>4.116208e+05</td>\n",
       "    </tr>\n",
       "    <tr>\n",
       "      <th>std</th>\n",
       "      <td>3076.983622</td>\n",
       "      <td>1.461509e+05</td>\n",
       "      <td>7185.751792</td>\n",
       "      <td>0.776239</td>\n",
       "      <td>0.783748</td>\n",
       "      <td>935.340892</td>\n",
       "      <td>131.812314</td>\n",
       "      <td>1.545182e+05</td>\n",
       "    </tr>\n",
       "    <tr>\n",
       "      <th>min</th>\n",
       "      <td>1151.500000</td>\n",
       "      <td>1.321790e+05</td>\n",
       "      <td>1.000000</td>\n",
       "      <td>2.000000</td>\n",
       "      <td>0.000000</td>\n",
       "      <td>819.000000</td>\n",
       "      <td>12.000000</td>\n",
       "      <td>8.130000e+04</td>\n",
       "    </tr>\n",
       "    <tr>\n",
       "      <th>25%</th>\n",
       "      <td>5766.575000</td>\n",
       "      <td>3.176390e+05</td>\n",
       "      <td>6229.080000</td>\n",
       "      <td>3.000000</td>\n",
       "      <td>2.000000</td>\n",
       "      <td>1930.000000</td>\n",
       "      <td>420.000000</td>\n",
       "      <td>3.066000e+05</td>\n",
       "    </tr>\n",
       "    <tr>\n",
       "      <th>50%</th>\n",
       "      <td>7155.770000</td>\n",
       "      <td>3.848920e+05</td>\n",
       "      <td>7840.800000</td>\n",
       "      <td>4.000000</td>\n",
       "      <td>2.100000</td>\n",
       "      <td>2440.000000</td>\n",
       "      <td>450.000000</td>\n",
       "      <td>3.859000e+05</td>\n",
       "    </tr>\n",
       "    <tr>\n",
       "      <th>75%</th>\n",
       "      <td>9186.005000</td>\n",
       "      <td>4.817080e+05</td>\n",
       "      <td>9583.200000</td>\n",
       "      <td>4.000000</td>\n",
       "      <td>3.100000</td>\n",
       "      <td>3244.000000</td>\n",
       "      <td>528.000000</td>\n",
       "      <td>4.950000e+05</td>\n",
       "    </tr>\n",
       "    <tr>\n",
       "      <th>max</th>\n",
       "      <td>25076.550000</td>\n",
       "      <td>1.305136e+06</td>\n",
       "      <td>220674.960000</td>\n",
       "      <td>6.000000</td>\n",
       "      <td>6.200000</td>\n",
       "      <td>10282.000000</td>\n",
       "      <td>2576.000000</td>\n",
       "      <td>1.150000e+06</td>\n",
       "    </tr>\n",
       "  </tbody>\n",
       "</table>\n",
       "</div>"
      ],
      "text/plain": [
       "         Tax Amount  Estimated Value       Lot SQFT         Beds        Baths  \\\n",
       "count   4595.000000     4.595000e+03    4595.000000  4595.000000  4595.000000   \n",
       "mean    7841.613012     4.188424e+05    8708.085319     3.688139     2.606855   \n",
       "std     3076.983622     1.461509e+05    7185.751792     0.776239     0.783748   \n",
       "min     1151.500000     1.321790e+05       1.000000     2.000000     0.000000   \n",
       "25%     5766.575000     3.176390e+05    6229.080000     3.000000     2.000000   \n",
       "50%     7155.770000     3.848920e+05    7840.800000     4.000000     2.100000   \n",
       "75%     9186.005000     4.817080e+05    9583.200000     4.000000     3.100000   \n",
       "max    25076.550000     1.305136e+06  220674.960000     6.000000     6.200000   \n",
       "\n",
       "       Living Area SQFT  Garage SQFT   Sales Price  \n",
       "count       4595.000000  4595.000000  4.595000e+03  \n",
       "mean        2640.295756   490.321872  4.116208e+05  \n",
       "std          935.340892   131.812314  1.545182e+05  \n",
       "min          819.000000    12.000000  8.130000e+04  \n",
       "25%         1930.000000   420.000000  3.066000e+05  \n",
       "50%         2440.000000   450.000000  3.859000e+05  \n",
       "75%         3244.000000   528.000000  4.950000e+05  \n",
       "max        10282.000000  2576.000000  1.150000e+06  "
      ]
     },
     "execution_count": 108,
     "metadata": {},
     "output_type": "execute_result"
    }
   ],
   "source": [
    "homes_onehot.describe(include=float)"
   ]
  },
  {
   "cell_type": "code",
   "execution_count": 65,
   "metadata": {},
   "outputs": [
    {
     "data": {
      "text/plain": [
       "0.9344729344729344"
      ]
     },
     "execution_count": 65,
     "metadata": {},
     "output_type": "execute_result"
    }
   ],
   "source": [
    "search.score(X,y)"
   ]
  },
  {
   "cell_type": "markdown",
   "metadata": {},
   "source": [
    "Saving which modules use which parameters for gridsearch"
   ]
  },
  {
   "cell_type": "code",
   "execution_count": null,
   "metadata": {},
   "outputs": [],
   "source": [
    "SVC()\n",
    "params = dict()\n",
    "params['C'] = (1e-6, 100.0, 'log-uniform')\n",
    "params['gamma'] = (1e-6, 100.0, 'log-uniform')\n",
    "params['degree'] = (1,5)\n",
    "params['kernel'] = ['linear', 'poly', 'rbf', 'sigmoid']\n",
    "\n",
    "KNeighborsRegressor()\n",
    "params = dict()\n",
    "params['n_neighbors'] = (2,25)\n",
    "params['weights'] = ['uniform', 'distance']\n",
    "\n",
    "\n",
    "\n",
    "SVR()\n",
    "params = dict()\n",
    "params['C'] = (1e-6, 100.0, 'log-uniform')\n",
    "params['gamma'] = (1e-6, 100.0, 'log-uniform')\n",
    "params['degree'] = (1,5)\n",
    "params['kernel'] = ['linear', 'poly', 'rbf', 'sigmoid']\n",
    "\n",
    "LinearRegression()\n",
    "\n",
    "\n",
    "Ridge()\n",
    "params = dict()\n",
    "params['alpha'] = (0, 1)\n",
    "\n",
    "Lasso()\n",
    "params = dict()\n",
    "params['alpha'] = (0, 1)\n",
    "\n",
    "BayesianRidge()\n",
    "\n",
    "ElasticNet()\n",
    "params = dict()\n",
    "params['alpha'] = (1e, 100.0)\n",
    "params['l1_ratio'] = (0, 1)\n",
    "\n",
    "XGBRegression()\n",
    "params = dict()\n",
    "n_estimators = [int(x) for x in np.linspace(start = 200, stop = 2000, num = 10)]\n",
    "max_depth = [1,2,3,4,5,6,7,8,9,10]\n",
    "eta = [.001,.005,.01,.025,.05,.1,.2,.3]\n",
    "subsample = [.25,.5,.75,1]\n",
    "colsample_bytree = [.25,.5,.75,1]"
   ]
  },
  {
   "cell_type": "code",
   "execution_count": 13,
   "metadata": {},
   "outputs": [
    {
     "data": {
      "text/html": [
       "<div>\n",
       "<style scoped>\n",
       "    .dataframe tbody tr th:only-of-type {\n",
       "        vertical-align: middle;\n",
       "    }\n",
       "\n",
       "    .dataframe tbody tr th {\n",
       "        vertical-align: top;\n",
       "    }\n",
       "\n",
       "    .dataframe thead th {\n",
       "        text-align: right;\n",
       "    }\n",
       "</style>\n",
       "<table border=\"1\" class=\"dataframe\">\n",
       "  <thead>\n",
       "    <tr style=\"text-align: right;\">\n",
       "      <th></th>\n",
       "      <th>count</th>\n",
       "      <th>mean</th>\n",
       "      <th>std</th>\n",
       "      <th>min</th>\n",
       "      <th>25%</th>\n",
       "      <th>50%</th>\n",
       "      <th>75%</th>\n",
       "      <th>max</th>\n",
       "    </tr>\n",
       "  </thead>\n",
       "  <tbody>\n",
       "    <tr>\n",
       "      <th>Porch Type_None</th>\n",
       "      <td>1149.0</td>\n",
       "      <td>0.298520</td>\n",
       "      <td>0.457808</td>\n",
       "      <td>0.0</td>\n",
       "      <td>0.0</td>\n",
       "      <td>0.0</td>\n",
       "      <td>1.0</td>\n",
       "      <td>1.00</td>\n",
       "    </tr>\n",
       "    <tr>\n",
       "      <th>Porch Type_Porch</th>\n",
       "      <td>1149.0</td>\n",
       "      <td>0.000870</td>\n",
       "      <td>0.029501</td>\n",
       "      <td>0.0</td>\n",
       "      <td>0.0</td>\n",
       "      <td>0.0</td>\n",
       "      <td>0.0</td>\n",
       "      <td>1.00</td>\n",
       "    </tr>\n",
       "    <tr>\n",
       "      <th>Porch Type_Porch - Open</th>\n",
       "      <td>1149.0</td>\n",
       "      <td>0.326371</td>\n",
       "      <td>0.469089</td>\n",
       "      <td>0.0</td>\n",
       "      <td>0.0</td>\n",
       "      <td>0.0</td>\n",
       "      <td>1.0</td>\n",
       "      <td>1.00</td>\n",
       "    </tr>\n",
       "    <tr>\n",
       "      <th>Porch Type_Porch covered</th>\n",
       "      <td>1149.0</td>\n",
       "      <td>0.374238</td>\n",
       "      <td>0.484136</td>\n",
       "      <td>0.0</td>\n",
       "      <td>0.0</td>\n",
       "      <td>0.0</td>\n",
       "      <td>1.0</td>\n",
       "      <td>1.00</td>\n",
       "    </tr>\n",
       "    <tr>\n",
       "      <th>Has Pool_None</th>\n",
       "      <td>1149.0</td>\n",
       "      <td>0.743255</td>\n",
       "      <td>0.437028</td>\n",
       "      <td>0.0</td>\n",
       "      <td>0.0</td>\n",
       "      <td>1.0</td>\n",
       "      <td>1.0</td>\n",
       "      <td>1.00</td>\n",
       "    </tr>\n",
       "    <tr>\n",
       "      <th>Has Pool_Pool &amp; Spa (both)</th>\n",
       "      <td>1149.0</td>\n",
       "      <td>0.046127</td>\n",
       "      <td>0.209852</td>\n",
       "      <td>0.0</td>\n",
       "      <td>0.0</td>\n",
       "      <td>0.0</td>\n",
       "      <td>0.0</td>\n",
       "      <td>1.00</td>\n",
       "    </tr>\n",
       "    <tr>\n",
       "      <th>Has Pool_Pool (yes)</th>\n",
       "      <td>1149.0</td>\n",
       "      <td>0.199304</td>\n",
       "      <td>0.399651</td>\n",
       "      <td>0.0</td>\n",
       "      <td>0.0</td>\n",
       "      <td>0.0</td>\n",
       "      <td>0.0</td>\n",
       "      <td>1.00</td>\n",
       "    </tr>\n",
       "    <tr>\n",
       "      <th>Has Pool_Spa or Hot Tub (only)</th>\n",
       "      <td>1149.0</td>\n",
       "      <td>0.011314</td>\n",
       "      <td>0.105811</td>\n",
       "      <td>0.0</td>\n",
       "      <td>0.0</td>\n",
       "      <td>0.0</td>\n",
       "      <td>0.0</td>\n",
       "      <td>1.00</td>\n",
       "    </tr>\n",
       "    <tr>\n",
       "      <th>Stories_1 Story</th>\n",
       "      <td>1149.0</td>\n",
       "      <td>0.437772</td>\n",
       "      <td>0.496329</td>\n",
       "      <td>0.0</td>\n",
       "      <td>0.0</td>\n",
       "      <td>0.0</td>\n",
       "      <td>1.0</td>\n",
       "      <td>1.00</td>\n",
       "    </tr>\n",
       "    <tr>\n",
       "      <th>Stories_1.5 Stories</th>\n",
       "      <td>1149.0</td>\n",
       "      <td>0.033943</td>\n",
       "      <td>0.181160</td>\n",
       "      <td>0.0</td>\n",
       "      <td>0.0</td>\n",
       "      <td>0.0</td>\n",
       "      <td>0.0</td>\n",
       "      <td>1.00</td>\n",
       "    </tr>\n",
       "    <tr>\n",
       "      <th>Stories_2 Stories</th>\n",
       "      <td>1149.0</td>\n",
       "      <td>0.510009</td>\n",
       "      <td>0.500117</td>\n",
       "      <td>0.0</td>\n",
       "      <td>0.0</td>\n",
       "      <td>1.0</td>\n",
       "      <td>1.0</td>\n",
       "      <td>1.00</td>\n",
       "    </tr>\n",
       "    <tr>\n",
       "      <th>Stories_2.5 Stories</th>\n",
       "      <td>1149.0</td>\n",
       "      <td>0.000870</td>\n",
       "      <td>0.029501</td>\n",
       "      <td>0.0</td>\n",
       "      <td>0.0</td>\n",
       "      <td>0.0</td>\n",
       "      <td>0.0</td>\n",
       "      <td>1.00</td>\n",
       "    </tr>\n",
       "    <tr>\n",
       "      <th>Stories_3 Stories</th>\n",
       "      <td>1149.0</td>\n",
       "      <td>0.017406</td>\n",
       "      <td>0.130837</td>\n",
       "      <td>0.0</td>\n",
       "      <td>0.0</td>\n",
       "      <td>0.0</td>\n",
       "      <td>0.0</td>\n",
       "      <td>1.00</td>\n",
       "    </tr>\n",
       "    <tr>\n",
       "      <th>Lot SQFT</th>\n",
       "      <td>1149.0</td>\n",
       "      <td>8311.756936</td>\n",
       "      <td>5232.259662</td>\n",
       "      <td>217.8</td>\n",
       "      <td>6098.4</td>\n",
       "      <td>7840.8</td>\n",
       "      <td>9583.2</td>\n",
       "      <td>69521.76</td>\n",
       "    </tr>\n",
       "    <tr>\n",
       "      <th>Beds</th>\n",
       "      <td>1149.0</td>\n",
       "      <td>3.644909</td>\n",
       "      <td>0.771398</td>\n",
       "      <td>2.0</td>\n",
       "      <td>3.0</td>\n",
       "      <td>4.0</td>\n",
       "      <td>4.0</td>\n",
       "      <td>6.00</td>\n",
       "    </tr>\n",
       "    <tr>\n",
       "      <th>Baths</th>\n",
       "      <td>1149.0</td>\n",
       "      <td>2.571192</td>\n",
       "      <td>0.775157</td>\n",
       "      <td>1.0</td>\n",
       "      <td>2.0</td>\n",
       "      <td>2.1</td>\n",
       "      <td>3.1</td>\n",
       "      <td>6.10</td>\n",
       "    </tr>\n",
       "    <tr>\n",
       "      <th>Living Area SQFT</th>\n",
       "      <td>1149.0</td>\n",
       "      <td>2614.340296</td>\n",
       "      <td>955.242296</td>\n",
       "      <td>819.0</td>\n",
       "      <td>1940.0</td>\n",
       "      <td>2403.0</td>\n",
       "      <td>3175.0</td>\n",
       "      <td>10282.00</td>\n",
       "    </tr>\n",
       "  </tbody>\n",
       "</table>\n",
       "</div>"
      ],
      "text/plain": [
       "                                 count         mean          std    min  \\\n",
       "Porch Type_None                 1149.0     0.298520     0.457808    0.0   \n",
       "Porch Type_Porch                1149.0     0.000870     0.029501    0.0   \n",
       "Porch Type_Porch - Open         1149.0     0.326371     0.469089    0.0   \n",
       "Porch Type_Porch covered        1149.0     0.374238     0.484136    0.0   \n",
       "Has Pool_None                   1149.0     0.743255     0.437028    0.0   \n",
       "Has Pool_Pool & Spa (both)      1149.0     0.046127     0.209852    0.0   \n",
       "Has Pool_Pool (yes)             1149.0     0.199304     0.399651    0.0   \n",
       "Has Pool_Spa or Hot Tub (only)  1149.0     0.011314     0.105811    0.0   \n",
       "Stories_1 Story                 1149.0     0.437772     0.496329    0.0   \n",
       "Stories_1.5 Stories             1149.0     0.033943     0.181160    0.0   \n",
       "Stories_2 Stories               1149.0     0.510009     0.500117    0.0   \n",
       "Stories_2.5 Stories             1149.0     0.000870     0.029501    0.0   \n",
       "Stories_3 Stories               1149.0     0.017406     0.130837    0.0   \n",
       "Lot SQFT                        1149.0  8311.756936  5232.259662  217.8   \n",
       "Beds                            1149.0     3.644909     0.771398    2.0   \n",
       "Baths                           1149.0     2.571192     0.775157    1.0   \n",
       "Living Area SQFT                1149.0  2614.340296   955.242296  819.0   \n",
       "\n",
       "                                   25%     50%     75%       max  \n",
       "Porch Type_None                    0.0     0.0     1.0      1.00  \n",
       "Porch Type_Porch                   0.0     0.0     0.0      1.00  \n",
       "Porch Type_Porch - Open            0.0     0.0     1.0      1.00  \n",
       "Porch Type_Porch covered           0.0     0.0     1.0      1.00  \n",
       "Has Pool_None                      0.0     1.0     1.0      1.00  \n",
       "Has Pool_Pool & Spa (both)         0.0     0.0     0.0      1.00  \n",
       "Has Pool_Pool (yes)                0.0     0.0     0.0      1.00  \n",
       "Has Pool_Spa or Hot Tub (only)     0.0     0.0     0.0      1.00  \n",
       "Stories_1 Story                    0.0     0.0     1.0      1.00  \n",
       "Stories_1.5 Stories                0.0     0.0     0.0      1.00  \n",
       "Stories_2 Stories                  0.0     1.0     1.0      1.00  \n",
       "Stories_2.5 Stories                0.0     0.0     0.0      1.00  \n",
       "Stories_3 Stories                  0.0     0.0     0.0      1.00  \n",
       "Lot SQFT                        6098.4  7840.8  9583.2  69521.76  \n",
       "Beds                               3.0     4.0     4.0      6.00  \n",
       "Baths                              2.0     2.1     3.1      6.10  \n",
       "Living Area SQFT                1940.0  2403.0  3175.0  10282.00  "
      ]
     },
     "execution_count": 13,
     "metadata": {},
     "output_type": "execute_result"
    }
   ],
   "source": [
    "X_small_test.describe().T"
   ]
  },
  {
   "cell_type": "code",
   "execution_count": null,
   "metadata": {},
   "outputs": [],
   "source": []
  }
 ],
 "metadata": {
  "kernelspec": {
   "display_name": "Python 3",
   "language": "python",
   "name": "python3"
  },
  "language_info": {
   "codemirror_mode": {
    "name": "ipython",
    "version": 3
   },
   "file_extension": ".py",
   "mimetype": "text/x-python",
   "name": "python",
   "nbconvert_exporter": "python",
   "pygments_lexer": "ipython3",
   "version": "3.8.8"
  }
 },
 "nbformat": 4,
 "nbformat_minor": 4
}
