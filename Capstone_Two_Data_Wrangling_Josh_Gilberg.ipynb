{
 "cells": [
  {
   "cell_type": "markdown",
   "metadata": {},
   "source": [
    "Import modules"
   ]
  },
  {
   "cell_type": "code",
   "execution_count": 11,
   "metadata": {},
   "outputs": [],
   "source": [
    "import pandas as pd\n",
    "import matplotlib.pyplot as plt\n",
    "import seaborn as sns\n",
    "import os\n",
    "import pandas_profiling\n",
    "from scipy import stats\n",
    "import numpy as np\n",
    "\n"
   ]
  },
  {
   "cell_type": "markdown",
   "metadata": {},
   "source": [
    "Input data to pandas dataframe"
   ]
  },
  {
   "cell_type": "code",
   "execution_count": 3,
   "metadata": {},
   "outputs": [],
   "source": [
    "raw_data1 = pd.read_csv('C:/Users/jdgil/Desktop/Python/Jupyter/Capstone Two/Data/Josh_1.csv')\n",
    "raw_data2 = pd.read_csv('C:/Users/jdgil/Desktop/Python/Jupyter/Capstone Two/Data/JOsh_2.csv')\n",
    "raw_data3 = pd.read_csv('C:/Users/jdgil/Desktop/Python/Jupyter/Capstone Two/Data/JOsh_3.csv')\n",
    "raw_data_part = pd.concat([raw_data1, raw_data2])\n",
    "raw_data_full = pd.concat([raw_data_part, raw_data3])"
   ]
  },
  {
   "cell_type": "markdown",
   "metadata": {},
   "source": [
    "Brief Look at data"
   ]
  },
  {
   "cell_type": "code",
   "execution_count": 12,
   "metadata": {},
   "outputs": [
    {
     "name": "stdout",
     "output_type": "stream",
     "text": [
      "<class 'pandas.core.frame.DataFrame'>\n",
      "Int64Index: 9117 entries, 0 to 2613\n",
      "Data columns (total 140 columns):\n",
      " #   Column                       Non-Null Count  Dtype  \n",
      "---  ------                       --------------  -----  \n",
      " 0   APN/PIN/Tax 1                8527 non-null   object \n",
      " 1   APN/PIN/Tax 2                8527 non-null   object \n",
      " 2   APN/PIN/Tax 3                3774 non-null   object \n",
      " 3   FIPS                         9117 non-null   int64  \n",
      " 4   Census Tract                 9006 non-null   float64\n",
      " 5   Property Address             9103 non-null   object \n",
      " 6   House Number                 9069 non-null   object \n",
      " 7   Pre Direction                198 non-null    object \n",
      " 8   Street                       9103 non-null   object \n",
      " 9   Street Suffix                8968 non-null   object \n",
      " 10  Post Direction               9 non-null      object \n",
      " 11  Unit Type                    450 non-null    object \n",
      " 12  Unit Number                  450 non-null    object \n",
      " 13  City                         9103 non-null   object \n",
      " 14  State                        9117 non-null   object \n",
      " 15  ZIP 5                        9094 non-null   float64\n",
      " 16  ZIP 4                        9028 non-null   float64\n",
      " 17  Mailing Address              9101 non-null   object \n",
      " 18  Mailing House Number         8925 non-null   object \n",
      " 19  Mailing Pre Direction        384 non-null    object \n",
      " 20  Mailing Street               9101 non-null   object \n",
      " 21  Mailing Street Suffix        8724 non-null   object \n",
      " 22  Mailing Post Direction       57 non-null     object \n",
      " 23  Mailing Unit Type            899 non-null    object \n",
      " 24  Mailing Unit Number          889 non-null    object \n",
      " 25  Mailing City                 9085 non-null   object \n",
      " 26  Mailing State                9074 non-null   object \n",
      " 27  Mailing ZIP 5                9073 non-null   object \n",
      " 28  Mailing ZIP 4                8944 non-null   float64\n",
      " 29  MLS ID                       9117 non-null   int64  \n",
      " 30  Listing Type                 9117 non-null   object \n",
      " 31  Status                       9117 non-null   object \n",
      " 32  List Price                   9117 non-null   int64  \n",
      " 33  Days on Market               9115 non-null   float64\n",
      " 34  Contract Status Change Date  9117 non-null   object \n",
      " 35  Township Name                9114 non-null   object \n",
      " 36  Subdivision Code             1115 non-null   object \n",
      " 37  Subdivision                  9114 non-null   object \n",
      " 38  Current Year Tax             9117 non-null   int64  \n",
      " 39  Tax Amount                   9110 non-null   float64\n",
      " 40  Tax Rate Code Area           5444 non-null   object \n",
      " 41  Current Year Assessment      9117 non-null   float64\n",
      " 42  Total Assessed Value         9117 non-null   int64  \n",
      " 43  Assessed Land                9117 non-null   int64  \n",
      " 44  Assessed Improvement         9117 non-null   int64  \n",
      " 45  Total Market Value           9117 non-null   int64  \n",
      " 46  Market Value Land            9117 non-null   int64  \n",
      " 47  Market Value Improvement     9117 non-null   int64  \n",
      " 48  Estimated Value              8819 non-null   float64\n",
      " 49  Absentee Status              9117 non-null   object \n",
      " 50  Exemption-Veterans           9117 non-null   bool   \n",
      " 51  Exemption-Disabled           9117 non-null   bool   \n",
      " 52  Exemption-Senior             9117 non-null   bool   \n",
      " 53  Exemption-Widow              9117 non-null   bool   \n",
      " 54  Exemption-Homestead          9117 non-null   bool   \n",
      " 55  Block #                      8816 non-null   object \n",
      " 56  Lot #                        9008 non-null   object \n",
      " 57  Section #                    0 non-null      float64\n",
      " 58  County Use Code              9113 non-null   object \n",
      " 59  Universal Land Use           9117 non-null   object \n",
      " 60  State Land Use Code          0 non-null      float64\n",
      " 61  Zoning                       2318 non-null   object \n",
      " 62  Plat Map Reference           3730 non-null   object \n",
      " 63  Lot Acres                    9117 non-null   float64\n",
      " 64  Lot SQFT                     9117 non-null   float64\n",
      " 65  New Construction             8847 non-null   object \n",
      " 66  Beds                         9013 non-null   float64\n",
      " 67  Baths                        9117 non-null   float64\n",
      " 68  Total Building Area          9117 non-null   int64  \n",
      " 69  Living Area SQFT             9041 non-null   float64\n",
      " 70  Gross Area SQFT              355 non-null    float64\n",
      " 71  Basement SQFT                7 non-null      float64\n",
      " 72  Garage SQFT                  8301 non-null   float64\n",
      " 73  Basement                     1551 non-null   object \n",
      " 74  Flooring Cover               2968 non-null   object \n",
      " 75  Stories                      8915 non-null   object \n",
      " 76  Style                        1086 non-null   object \n",
      " 77  Year Built                   8847 non-null   float64\n",
      " 78  Air conditioning             8311 non-null   object \n",
      " 79  Heat Type                    8174 non-null   object \n",
      " 80  Fireplace indicator          9117 non-null   bool   \n",
      " 81  Construction Type            4996 non-null   object \n",
      " 82  Exterior Wall                8312 non-null   object \n",
      " 83  Roof Material Type           6676 non-null   object \n",
      " 84  Porch Type                   5825 non-null   object \n",
      " 85  Has Pool                     1631 non-null   object \n",
      " 86  Parking spaces               9117 non-null   int64  \n",
      " 87  Parking Type                 8436 non-null   object \n",
      " 88  Total Units                  9117 non-null   int64  \n",
      " 89  Sell Score                   0 non-null      float64\n",
      " 90  Distressed Indicator         1 non-null      object \n",
      " 91  Distressed Recording Date    191 non-null    object \n",
      " 92  Distressed Case Number       3 non-null      object \n",
      " 93  Auction Date                 84 non-null     object \n",
      " 94  Default Date                 0 non-null      float64\n",
      " 95  Recording Date               8945 non-null   object \n",
      " 96  Document Type                8789 non-null   object \n",
      " 97  Sales Price                  6153 non-null   float64\n",
      " 98  Equity                       8819 non-null   float64\n",
      " 99  Equity Percentage            8956 non-null   object \n",
      " 100 Number Of Mortgages          9117 non-null   int64  \n",
      " 101 Mortgage Loan Balance        9117 non-null   float64\n",
      " 102 Mortgage 1 Lender Name       6647 non-null   object \n",
      " 103 Mortgage 1 Loan Type         6647 non-null   object \n",
      " 104 Mortgage 1 Amount            6647 non-null   float64\n",
      " 105 Mortgage 1 Loan Date         6635 non-null   object \n",
      " 106 Mortgage 1 Rate              6647 non-null   object \n",
      " 107 Estimated Rate               6647 non-null   object \n",
      " 108 Estimated Rate.1             6647 non-null   object \n",
      " 109 Mortgage 1 Age               6635 non-null   object \n",
      " 110 Mortgage 2 Lender Name       260 non-null    object \n",
      " 111 Mortgage 2 Loan Type         260 non-null    object \n",
      " 112 Mortgage 2 Amount            231 non-null    float64\n",
      " 113 Mortgage 2 Loan Date         259 non-null    object \n",
      " 114 Mortgage 2 Rate              260 non-null    object \n",
      " 115 Mortgage 2 Age               259 non-null    object \n",
      " 116 Mortgage 3 Lender Name       3 non-null      object \n",
      " 117 Mortgage 3 Loan Type         3 non-null      object \n",
      " 118 Mortgage 3 Amount            1 non-null      float64\n",
      " 119 Mortgage 3 Loan Date         3 non-null      object \n",
      " 120 Mortgage 3 Rate              3 non-null      object \n",
      " 121 Mortgage 3 Age               3 non-null      object \n",
      " 122 Mortgage 4 Lender Name       2 non-null      object \n",
      " 123 Mortgage 4 Loan Type         2 non-null      object \n",
      " 124 Mortgage 4 Amount            0 non-null      float64\n",
      " 125 Mortgage 4 Loan Date         2 non-null      object \n",
      " 126 Mortgage 4 Rate              2 non-null      object \n",
      " 127 Mortgage 4 Age               2 non-null      object \n",
      " 128 Owner 1 First Name           8122 non-null   object \n",
      " 129 Owner 1 Middle Name          4869 non-null   object \n",
      " 130 Owner 1 Last Name            8123 non-null   object \n",
      " 131 Owner 1 Full Name            9117 non-null   object \n",
      " 132 Owner 1 Email Addresses      2578 non-null   object \n",
      " 133 Owner 1 Phone Numbers        2349 non-null   object \n",
      " 134 Owner 2 First Name           4809 non-null   object \n",
      " 135 Owner 2 Middle Name          2683 non-null   object \n",
      " 136 Owner 2 Last Name            4809 non-null   object \n",
      " 137 Owner 2 Full Name            4953 non-null   object \n",
      " 138 Owner 2 Email Addresses      690 non-null    object \n",
      " 139 Owner 2 Phone Numbers        635 non-null    object \n",
      "dtypes: bool(6), float64(28), int64(14), object(92)\n",
      "memory usage: 9.4+ MB\n"
     ]
    }
   ],
   "source": [
    "raw_data_full.info(verbose=True, null_counts=True)"
   ]
  },
  {
   "cell_type": "markdown",
   "metadata": {},
   "source": [
    "Remove personal data and columns with mostly null values"
   ]
  },
  {
   "cell_type": "code",
   "execution_count": 4,
   "metadata": {},
   "outputs": [
    {
     "name": "stdout",
     "output_type": "stream",
     "text": [
      "<class 'pandas.core.frame.DataFrame'>\n",
      "Int64Index: 9117 entries, 0 to 2613\n",
      "Data columns (total 74 columns):\n",
      " #   Column                    Non-Null Count  Dtype  \n",
      "---  ------                    --------------  -----  \n",
      " 0   Census Tract              9006 non-null   float64\n",
      " 1   City                      9103 non-null   object \n",
      " 2   State                     9117 non-null   object \n",
      " 3   ZIP 5                     9094 non-null   float64\n",
      " 4   ZIP 4                     9028 non-null   float64\n",
      " 5   Mailing City              9085 non-null   object \n",
      " 6   Mailing State             9074 non-null   object \n",
      " 7   Mailing ZIP 5             9073 non-null   object \n",
      " 8   Mailing ZIP 4             8944 non-null   float64\n",
      " 9   MLS ID                    9117 non-null   int64  \n",
      " 10  Listing Type              9117 non-null   object \n",
      " 11  Status                    9117 non-null   object \n",
      " 12  List Price                9117 non-null   int64  \n",
      " 13  Days on Market            9115 non-null   float64\n",
      " 14  Township Name             9114 non-null   object \n",
      " 15  Subdivision               9114 non-null   object \n",
      " 16  Current Year Tax          9117 non-null   int64  \n",
      " 17  Tax Amount                9110 non-null   float64\n",
      " 18  Tax Rate Code Area        5444 non-null   object \n",
      " 19  Current Year Assessment   9117 non-null   float64\n",
      " 20  Total Assessed Value      9117 non-null   int64  \n",
      " 21  Assessed Land             9117 non-null   int64  \n",
      " 22  Assessed Improvement      9117 non-null   int64  \n",
      " 23  Total Market Value        9117 non-null   int64  \n",
      " 24  Market Value Land         9117 non-null   int64  \n",
      " 25  Market Value Improvement  9117 non-null   int64  \n",
      " 26  Estimated Value           8819 non-null   float64\n",
      " 27  Absentee Status           9117 non-null   object \n",
      " 28  Block #                   8816 non-null   object \n",
      " 29  Lot #                     9008 non-null   object \n",
      " 30  County Use Code           9113 non-null   object \n",
      " 31  Universal Land Use        9117 non-null   object \n",
      " 32  Zoning                    2318 non-null   object \n",
      " 33  Plat Map Reference        3730 non-null   object \n",
      " 34  Lot Acres                 9117 non-null   float64\n",
      " 35  Lot SQFT                  9117 non-null   float64\n",
      " 36  New Construction          8847 non-null   object \n",
      " 37  Beds                      9013 non-null   float64\n",
      " 38  Baths                     9117 non-null   float64\n",
      " 39  Total Building Area       9117 non-null   int64  \n",
      " 40  Living Area SQFT          9041 non-null   float64\n",
      " 41  Gross Area SQFT           355 non-null    float64\n",
      " 42  Basement SQFT             7 non-null      float64\n",
      " 43  Garage SQFT               8301 non-null   float64\n",
      " 44  Basement                  1551 non-null   object \n",
      " 45  Flooring Cover            2968 non-null   object \n",
      " 46  Stories                   8915 non-null   object \n",
      " 47  Style                     1086 non-null   object \n",
      " 48  Year Built                8847 non-null   float64\n",
      " 49  Air conditioning          8311 non-null   object \n",
      " 50  Heat Type                 8174 non-null   object \n",
      " 51  Fireplace indicator       9117 non-null   bool   \n",
      " 52  Construction Type         4996 non-null   object \n",
      " 53  Exterior Wall             8312 non-null   object \n",
      " 54  Roof Material Type        6676 non-null   object \n",
      " 55  Porch Type                5825 non-null   object \n",
      " 56  Has Pool                  1631 non-null   object \n",
      " 57  Parking spaces            9117 non-null   int64  \n",
      " 58  Parking Type              8436 non-null   object \n",
      " 59  Total Units               9117 non-null   int64  \n",
      " 60  Recording Date            8945 non-null   object \n",
      " 61  Document Type             8789 non-null   object \n",
      " 62  Sales Price               6153 non-null   float64\n",
      " 63  Equity                    8819 non-null   float64\n",
      " 64  Equity Percentage         8956 non-null   object \n",
      " 65  Number Of Mortgages       9117 non-null   int64  \n",
      " 66  Mortgage Loan Balance     9117 non-null   float64\n",
      " 67  Mortgage 1 Lender Name    6647 non-null   object \n",
      " 68  Mortgage 1 Loan Type      6647 non-null   object \n",
      " 69  Mortgage 1 Amount         6647 non-null   float64\n",
      " 70  Mortgage 1 Loan Date      6635 non-null   object \n",
      " 71  Mortgage 1 Rate           6647 non-null   object \n",
      " 72  Estimated Rate            6647 non-null   object \n",
      " 73  Estimated Rate.1          6647 non-null   object \n",
      "dtypes: bool(1), float64(21), int64(13), object(39)\n",
      "memory usage: 5.2+ MB\n"
     ]
    }
   ],
   "source": [
    "personal_scrubbed = raw_data_full.drop(raw_data_full.columns[[0,1,2,3,5,6,7,8,9,10,11,12,17,18,19,20,21,22,23,24,34,36,50,51,52,53,54,57,60,89,90,91,92,93,94,109,110,111,112,113,114,115,116,117,118,119,120,121,122,123,124,125,126,127,128,129,130,131,132,133,134,135,136,137,138,139]], axis=1)\n",
    "personal_scrubbed.info(verbose=True, null_counts=True)"
   ]
  },
  {
   "cell_type": "markdown",
   "metadata": {},
   "source": [
    "More in depth look at data with pandas profiling, review what the actual columns are are note which are not useful to be scrubbed (deleted due to memory problems)"
   ]
  },
  {
   "cell_type": "markdown",
   "metadata": {},
   "source": [
    "Clean out more unneeded columns after looking at pandas profiling and remove commercial properties and vacant lots.\n",
    "Commercial properties should be most of the large outliers and the vacant lots give 0's for size so are useless."
   ]
  },
  {
   "cell_type": "code",
   "execution_count": 5,
   "metadata": {
    "scrolled": true
   },
   "outputs": [
    {
     "name": "stdout",
     "output_type": "stream",
     "text": [
      "<class 'pandas.core.frame.DataFrame'>\n",
      "Int64Index: 9117 entries, 0 to 2613\n",
      "Data columns (total 51 columns):\n",
      " #   Column                    Non-Null Count  Dtype  \n",
      "---  ------                    --------------  -----  \n",
      " 0   City                      9103 non-null   object \n",
      " 1   State                     9117 non-null   object \n",
      " 2   ZIP 5                     9094 non-null   float64\n",
      " 3   ZIP 4                     9028 non-null   float64\n",
      " 4   MLS ID                    9117 non-null   int64  \n",
      " 5   Listing Type              9117 non-null   object \n",
      " 6   Status                    9117 non-null   object \n",
      " 7   List Price                9117 non-null   int64  \n",
      " 8   Days on Market            9115 non-null   float64\n",
      " 9   Township Name             9114 non-null   object \n",
      " 10  Subdivision               9114 non-null   object \n",
      " 11  Tax Amount                9110 non-null   float64\n",
      " 12  Total Assessed Value      9117 non-null   int64  \n",
      " 13  Assessed Land             9117 non-null   int64  \n",
      " 14  Assessed Improvement      9117 non-null   int64  \n",
      " 15  Total Market Value        9117 non-null   int64  \n",
      " 16  Market Value Land         9117 non-null   int64  \n",
      " 17  Market Value Improvement  9117 non-null   int64  \n",
      " 18  Estimated Value           8819 non-null   float64\n",
      " 19  County Use Code           9113 non-null   object \n",
      " 20  Universal Land Use        9117 non-null   object \n",
      " 21  Zoning                    2318 non-null   object \n",
      " 22  Lot Acres                 9117 non-null   float64\n",
      " 23  Lot SQFT                  9117 non-null   float64\n",
      " 24  New Construction          8847 non-null   object \n",
      " 25  Beds                      9013 non-null   float64\n",
      " 26  Baths                     9117 non-null   float64\n",
      " 27  Total Building Area       9117 non-null   int64  \n",
      " 28  Living Area SQFT          9041 non-null   float64\n",
      " 29  Basement SQFT             7 non-null      float64\n",
      " 30  Garage SQFT               8301 non-null   float64\n",
      " 31  Basement                  1551 non-null   object \n",
      " 32  Flooring Cover            2968 non-null   object \n",
      " 33  Stories                   8915 non-null   object \n",
      " 34  Year Built                8847 non-null   float64\n",
      " 35  Air conditioning          8311 non-null   object \n",
      " 36  Heat Type                 8174 non-null   object \n",
      " 37  Fireplace indicator       9117 non-null   bool   \n",
      " 38  Construction Type         4996 non-null   object \n",
      " 39  Exterior Wall             8312 non-null   object \n",
      " 40  Roof Material Type        6676 non-null   object \n",
      " 41  Porch Type                5825 non-null   object \n",
      " 42  Has Pool                  1631 non-null   object \n",
      " 43  Parking spaces            9117 non-null   int64  \n",
      " 44  Parking Type              8436 non-null   object \n",
      " 45  Total Units               9117 non-null   int64  \n",
      " 46  Sales Price               6153 non-null   float64\n",
      " 47  Equity                    8819 non-null   float64\n",
      " 48  Equity Percentage         8956 non-null   object \n",
      " 49  Mortgage 1 Amount         6647 non-null   float64\n",
      " 50  Mortgage 1 Rate           6647 non-null   object \n",
      "dtypes: bool(1), float64(16), int64(11), object(23)\n",
      "memory usage: 3.6+ MB\n"
     ]
    }
   ],
   "source": [
    "personal_scrubbed2 = personal_scrubbed.drop(['Census Tract','Mailing City','Mailing State','Mailing ZIP 5','Mailing ZIP 4','Current Year Tax','Tax Rate Code Area', 'Current Year Assessment','Block #','Lot #','Plat Map Reference','Style','Recording Date','Document Type','Number Of Mortgages','Mortgage Loan Balance','Mortgage 1 Lender Name', 'Mortgage 1 Loan Type','Mortgage 1 Loan Date','Estimated Rate', 'Estimated Rate.1','Absentee Status','Gross Area SQFT'], axis=1)\n",
    "personal_scrubbed2.info(verbose=True, null_counts=True)"
   ]
  },
  {
   "cell_type": "code",
   "execution_count": 6,
   "metadata": {},
   "outputs": [
    {
     "name": "stdout",
     "output_type": "stream",
     "text": [
      "<class 'pandas.core.frame.DataFrame'>\n",
      "Int64Index: 9047 entries, 0 to 2613\n",
      "Data columns (total 51 columns):\n",
      " #   Column                    Non-Null Count  Dtype  \n",
      "---  ------                    --------------  -----  \n",
      " 0   City                      9033 non-null   object \n",
      " 1   State                     9047 non-null   object \n",
      " 2   ZIP 5                     9030 non-null   float64\n",
      " 3   ZIP 4                     8969 non-null   float64\n",
      " 4   MLS ID                    9047 non-null   int64  \n",
      " 5   Listing Type              9047 non-null   object \n",
      " 6   Status                    9047 non-null   object \n",
      " 7   List Price                9047 non-null   int64  \n",
      " 8   Days on Market            9045 non-null   float64\n",
      " 9   Township Name             9044 non-null   object \n",
      " 10  Subdivision               9044 non-null   object \n",
      " 11  Tax Amount                9041 non-null   float64\n",
      " 12  Total Assessed Value      9047 non-null   int64  \n",
      " 13  Assessed Land             9047 non-null   int64  \n",
      " 14  Assessed Improvement      9047 non-null   int64  \n",
      " 15  Total Market Value        9047 non-null   int64  \n",
      " 16  Market Value Land         9047 non-null   int64  \n",
      " 17  Market Value Improvement  9047 non-null   int64  \n",
      " 18  Estimated Value           8810 non-null   float64\n",
      " 19  County Use Code           9043 non-null   object \n",
      " 20  Universal Land Use        9047 non-null   object \n",
      " 21  Zoning                    2315 non-null   object \n",
      " 22  Lot Acres                 9047 non-null   float64\n",
      " 23  Lot SQFT                  9047 non-null   float64\n",
      " 24  New Construction          8844 non-null   object \n",
      " 25  Beds                      8956 non-null   float64\n",
      " 26  Baths                     9047 non-null   float64\n",
      " 27  Total Building Area       9047 non-null   int64  \n",
      " 28  Living Area SQFT          8984 non-null   float64\n",
      " 29  Basement SQFT             7 non-null      float64\n",
      " 30  Garage SQFT               8298 non-null   float64\n",
      " 31  Basement                  1550 non-null   object \n",
      " 32  Flooring Cover            2968 non-null   object \n",
      " 33  Stories                   8912 non-null   object \n",
      " 34  Year Built                8844 non-null   float64\n",
      " 35  Air conditioning          8308 non-null   object \n",
      " 36  Heat Type                 8172 non-null   object \n",
      " 37  Fireplace indicator       9047 non-null   bool   \n",
      " 38  Construction Type         4993 non-null   object \n",
      " 39  Exterior Wall             8309 non-null   object \n",
      " 40  Roof Material Type        6673 non-null   object \n",
      " 41  Porch Type                5824 non-null   object \n",
      " 42  Has Pool                  1629 non-null   object \n",
      " 43  Parking spaces            9047 non-null   int64  \n",
      " 44  Parking Type              8433 non-null   object \n",
      " 45  Total Units               9047 non-null   int64  \n",
      " 46  Sales Price               6144 non-null   float64\n",
      " 47  Equity                    8810 non-null   float64\n",
      " 48  Equity Percentage         8925 non-null   object \n",
      " 49  Mortgage 1 Amount         6605 non-null   float64\n",
      " 50  Mortgage 1 Rate           6605 non-null   object \n",
      "dtypes: bool(1), float64(16), int64(11), object(23)\n",
      "memory usage: 3.5+ MB\n"
     ]
    }
   ],
   "source": [
    "cleaning = personal_scrubbed2[personal_scrubbed2['Universal Land Use'] != 'Commercial (General)']\n",
    "cleaning = personal_scrubbed2[personal_scrubbed2['Universal Land Use'] != 'Commercial-Vacant Land']\n",
    "cleaning = personal_scrubbed2[personal_scrubbed2['Universal Land Use'] != 'Residential-Vacant Land']\n",
    "cleaning.info(verbose=True, null_counts=True)"
   ]
  },
  {
   "cell_type": "markdown",
   "metadata": {},
   "source": [
    "Rerun pandas profiling to see if bounds are more reasonable (deleted due to memory problems)"
   ]
  },
  {
   "cell_type": "markdown",
   "metadata": {},
   "source": [
    "Remove large outliers from Assessed Value column to filter out very large values and 0's"
   ]
  },
  {
   "cell_type": "code",
   "execution_count": 29,
   "metadata": {},
   "outputs": [
    {
     "ename": "KeyError",
     "evalue": "\"['State' 'Status' 'Zoning'] not found in axis\"",
     "output_type": "error",
     "traceback": [
      "\u001b[1;31m---------------------------------------------------------------------------\u001b[0m",
      "\u001b[1;31mKeyError\u001b[0m                                  Traceback (most recent call last)",
      "\u001b[1;32m<ipython-input-29-851380ee1e70>\u001b[0m in \u001b[0;36m<module>\u001b[1;34m\u001b[0m\n\u001b[0;32m      3\u001b[0m \u001b[1;33m\u001b[0m\u001b[0m\n\u001b[0;32m      4\u001b[0m \u001b[0mcleaning\u001b[0m \u001b[1;33m=\u001b[0m \u001b[0mcleaning\u001b[0m\u001b[1;33m[\u001b[0m\u001b[1;33m(\u001b[0m\u001b[0mcleaning\u001b[0m\u001b[1;33m[\u001b[0m\u001b[1;34m'Total Assessed Value'\u001b[0m\u001b[1;33m]\u001b[0m \u001b[1;33m<\u001b[0m \u001b[0mq_hi\u001b[0m\u001b[1;33m)\u001b[0m \u001b[1;33m&\u001b[0m \u001b[1;33m(\u001b[0m\u001b[0mcleaning\u001b[0m\u001b[1;33m[\u001b[0m\u001b[1;34m'Total Assessed Value'\u001b[0m\u001b[1;33m]\u001b[0m \u001b[1;33m>\u001b[0m \u001b[0mq_low\u001b[0m\u001b[1;33m)\u001b[0m\u001b[1;33m]\u001b[0m\u001b[1;33m\u001b[0m\u001b[1;33m\u001b[0m\u001b[0m\n\u001b[1;32m----> 5\u001b[1;33m \u001b[0mcleaning\u001b[0m \u001b[1;33m=\u001b[0m \u001b[0mcleaning\u001b[0m\u001b[1;33m.\u001b[0m\u001b[0mdrop\u001b[0m\u001b[1;33m(\u001b[0m\u001b[1;33m[\u001b[0m\u001b[1;34m'State'\u001b[0m\u001b[1;33m,\u001b[0m\u001b[1;34m'Status'\u001b[0m\u001b[1;33m,\u001b[0m\u001b[1;34m'Zoning'\u001b[0m\u001b[1;33m]\u001b[0m\u001b[1;33m,\u001b[0m \u001b[0maxis\u001b[0m\u001b[1;33m=\u001b[0m\u001b[1;36m1\u001b[0m\u001b[1;33m)\u001b[0m\u001b[1;33m\u001b[0m\u001b[1;33m\u001b[0m\u001b[0m\n\u001b[0m\u001b[0;32m      6\u001b[0m \u001b[1;33m\u001b[0m\u001b[0m\n\u001b[0;32m      7\u001b[0m \u001b[0mq_low\u001b[0m \u001b[1;33m=\u001b[0m \u001b[0mcleaning\u001b[0m\u001b[1;33m[\u001b[0m\u001b[1;34m'Sales Price'\u001b[0m\u001b[1;33m]\u001b[0m\u001b[1;33m.\u001b[0m\u001b[0mquantile\u001b[0m\u001b[1;33m(\u001b[0m\u001b[1;36m0.01\u001b[0m\u001b[1;33m)\u001b[0m\u001b[1;33m\u001b[0m\u001b[1;33m\u001b[0m\u001b[0m\n",
      "\u001b[1;32m~\\anaconda3\\lib\\site-packages\\pandas\\core\\frame.py\u001b[0m in \u001b[0;36mdrop\u001b[1;34m(self, labels, axis, index, columns, level, inplace, errors)\u001b[0m\n\u001b[0;32m   4161\u001b[0m                 \u001b[0mweight\u001b[0m  \u001b[1;36m1.0\u001b[0m     \u001b[1;36m0.8\u001b[0m\u001b[1;33m\u001b[0m\u001b[1;33m\u001b[0m\u001b[0m\n\u001b[0;32m   4162\u001b[0m         \"\"\"\n\u001b[1;32m-> 4163\u001b[1;33m         return super().drop(\n\u001b[0m\u001b[0;32m   4164\u001b[0m             \u001b[0mlabels\u001b[0m\u001b[1;33m=\u001b[0m\u001b[0mlabels\u001b[0m\u001b[1;33m,\u001b[0m\u001b[1;33m\u001b[0m\u001b[1;33m\u001b[0m\u001b[0m\n\u001b[0;32m   4165\u001b[0m             \u001b[0maxis\u001b[0m\u001b[1;33m=\u001b[0m\u001b[0maxis\u001b[0m\u001b[1;33m,\u001b[0m\u001b[1;33m\u001b[0m\u001b[1;33m\u001b[0m\u001b[0m\n",
      "\u001b[1;32m~\\anaconda3\\lib\\site-packages\\pandas\\core\\generic.py\u001b[0m in \u001b[0;36mdrop\u001b[1;34m(self, labels, axis, index, columns, level, inplace, errors)\u001b[0m\n\u001b[0;32m   3885\u001b[0m         \u001b[1;32mfor\u001b[0m \u001b[0maxis\u001b[0m\u001b[1;33m,\u001b[0m \u001b[0mlabels\u001b[0m \u001b[1;32min\u001b[0m \u001b[0maxes\u001b[0m\u001b[1;33m.\u001b[0m\u001b[0mitems\u001b[0m\u001b[1;33m(\u001b[0m\u001b[1;33m)\u001b[0m\u001b[1;33m:\u001b[0m\u001b[1;33m\u001b[0m\u001b[1;33m\u001b[0m\u001b[0m\n\u001b[0;32m   3886\u001b[0m             \u001b[1;32mif\u001b[0m \u001b[0mlabels\u001b[0m \u001b[1;32mis\u001b[0m \u001b[1;32mnot\u001b[0m \u001b[1;32mNone\u001b[0m\u001b[1;33m:\u001b[0m\u001b[1;33m\u001b[0m\u001b[1;33m\u001b[0m\u001b[0m\n\u001b[1;32m-> 3887\u001b[1;33m                 \u001b[0mobj\u001b[0m \u001b[1;33m=\u001b[0m \u001b[0mobj\u001b[0m\u001b[1;33m.\u001b[0m\u001b[0m_drop_axis\u001b[0m\u001b[1;33m(\u001b[0m\u001b[0mlabels\u001b[0m\u001b[1;33m,\u001b[0m \u001b[0maxis\u001b[0m\u001b[1;33m,\u001b[0m \u001b[0mlevel\u001b[0m\u001b[1;33m=\u001b[0m\u001b[0mlevel\u001b[0m\u001b[1;33m,\u001b[0m \u001b[0merrors\u001b[0m\u001b[1;33m=\u001b[0m\u001b[0merrors\u001b[0m\u001b[1;33m)\u001b[0m\u001b[1;33m\u001b[0m\u001b[1;33m\u001b[0m\u001b[0m\n\u001b[0m\u001b[0;32m   3888\u001b[0m \u001b[1;33m\u001b[0m\u001b[0m\n\u001b[0;32m   3889\u001b[0m         \u001b[1;32mif\u001b[0m \u001b[0minplace\u001b[0m\u001b[1;33m:\u001b[0m\u001b[1;33m\u001b[0m\u001b[1;33m\u001b[0m\u001b[0m\n",
      "\u001b[1;32m~\\anaconda3\\lib\\site-packages\\pandas\\core\\generic.py\u001b[0m in \u001b[0;36m_drop_axis\u001b[1;34m(self, labels, axis, level, errors)\u001b[0m\n\u001b[0;32m   3919\u001b[0m                 \u001b[0mnew_axis\u001b[0m \u001b[1;33m=\u001b[0m \u001b[0maxis\u001b[0m\u001b[1;33m.\u001b[0m\u001b[0mdrop\u001b[0m\u001b[1;33m(\u001b[0m\u001b[0mlabels\u001b[0m\u001b[1;33m,\u001b[0m \u001b[0mlevel\u001b[0m\u001b[1;33m=\u001b[0m\u001b[0mlevel\u001b[0m\u001b[1;33m,\u001b[0m \u001b[0merrors\u001b[0m\u001b[1;33m=\u001b[0m\u001b[0merrors\u001b[0m\u001b[1;33m)\u001b[0m\u001b[1;33m\u001b[0m\u001b[1;33m\u001b[0m\u001b[0m\n\u001b[0;32m   3920\u001b[0m             \u001b[1;32melse\u001b[0m\u001b[1;33m:\u001b[0m\u001b[1;33m\u001b[0m\u001b[1;33m\u001b[0m\u001b[0m\n\u001b[1;32m-> 3921\u001b[1;33m                 \u001b[0mnew_axis\u001b[0m \u001b[1;33m=\u001b[0m \u001b[0maxis\u001b[0m\u001b[1;33m.\u001b[0m\u001b[0mdrop\u001b[0m\u001b[1;33m(\u001b[0m\u001b[0mlabels\u001b[0m\u001b[1;33m,\u001b[0m \u001b[0merrors\u001b[0m\u001b[1;33m=\u001b[0m\u001b[0merrors\u001b[0m\u001b[1;33m)\u001b[0m\u001b[1;33m\u001b[0m\u001b[1;33m\u001b[0m\u001b[0m\n\u001b[0m\u001b[0;32m   3922\u001b[0m             \u001b[0mresult\u001b[0m \u001b[1;33m=\u001b[0m \u001b[0mself\u001b[0m\u001b[1;33m.\u001b[0m\u001b[0mreindex\u001b[0m\u001b[1;33m(\u001b[0m\u001b[1;33m**\u001b[0m\u001b[1;33m{\u001b[0m\u001b[0maxis_name\u001b[0m\u001b[1;33m:\u001b[0m \u001b[0mnew_axis\u001b[0m\u001b[1;33m}\u001b[0m\u001b[1;33m)\u001b[0m\u001b[1;33m\u001b[0m\u001b[1;33m\u001b[0m\u001b[0m\n\u001b[0;32m   3923\u001b[0m \u001b[1;33m\u001b[0m\u001b[0m\n",
      "\u001b[1;32m~\\anaconda3\\lib\\site-packages\\pandas\\core\\indexes\\base.py\u001b[0m in \u001b[0;36mdrop\u001b[1;34m(self, labels, errors)\u001b[0m\n\u001b[0;32m   5280\u001b[0m         \u001b[1;32mif\u001b[0m \u001b[0mmask\u001b[0m\u001b[1;33m.\u001b[0m\u001b[0many\u001b[0m\u001b[1;33m(\u001b[0m\u001b[1;33m)\u001b[0m\u001b[1;33m:\u001b[0m\u001b[1;33m\u001b[0m\u001b[1;33m\u001b[0m\u001b[0m\n\u001b[0;32m   5281\u001b[0m             \u001b[1;32mif\u001b[0m \u001b[0merrors\u001b[0m \u001b[1;33m!=\u001b[0m \u001b[1;34m\"ignore\"\u001b[0m\u001b[1;33m:\u001b[0m\u001b[1;33m\u001b[0m\u001b[1;33m\u001b[0m\u001b[0m\n\u001b[1;32m-> 5282\u001b[1;33m                 \u001b[1;32mraise\u001b[0m \u001b[0mKeyError\u001b[0m\u001b[1;33m(\u001b[0m\u001b[1;34mf\"{labels[mask]} not found in axis\"\u001b[0m\u001b[1;33m)\u001b[0m\u001b[1;33m\u001b[0m\u001b[1;33m\u001b[0m\u001b[0m\n\u001b[0m\u001b[0;32m   5283\u001b[0m             \u001b[0mindexer\u001b[0m \u001b[1;33m=\u001b[0m \u001b[0mindexer\u001b[0m\u001b[1;33m[\u001b[0m\u001b[1;33m~\u001b[0m\u001b[0mmask\u001b[0m\u001b[1;33m]\u001b[0m\u001b[1;33m\u001b[0m\u001b[1;33m\u001b[0m\u001b[0m\n\u001b[0;32m   5284\u001b[0m         \u001b[1;32mreturn\u001b[0m \u001b[0mself\u001b[0m\u001b[1;33m.\u001b[0m\u001b[0mdelete\u001b[0m\u001b[1;33m(\u001b[0m\u001b[0mindexer\u001b[0m\u001b[1;33m)\u001b[0m\u001b[1;33m\u001b[0m\u001b[1;33m\u001b[0m\u001b[0m\n",
      "\u001b[1;31mKeyError\u001b[0m: \"['State' 'Status' 'Zoning'] not found in axis\""
     ]
    }
   ],
   "source": [
    "\n",
    "q_low = cleaning['Total Assessed Value'].quantile(0.01)\n",
    "q_hi  = cleaning['Total Assessed Value'].quantile(0.99)\n",
    "\n",
    "cleaning = cleaning[(cleaning['Total Assessed Value'] < q_hi) & (cleaning['Total Assessed Value'] > q_low)]\n",
    "\n",
    "\n",
    "\n"
   ]
  },
  {
   "cell_type": "code",
   "execution_count": 30,
   "metadata": {},
   "outputs": [],
   "source": [
    "\n",
    "q_low = cleaning['Sales Price'].quantile(0.01)\n",
    "q_hi  = cleaning['Sales Price'].quantile(0.99)\n",
    "\n",
    "cleaning = cleaning[(cleaning['Sales Price'] < q_hi) & (cleaning['Sales Price'] > q_low)]"
   ]
  },
  {
   "cell_type": "code",
   "execution_count": 32,
   "metadata": {},
   "outputs": [],
   "source": [
    "cleaning = cleaning[cleaning['Universal Land Use'] != 'Condominium Unit (Residential)']\n",
    "cleaning = cleaning[cleaning['Universal Land Use'] != 'Duplex (2 units - any combination)']\n",
    "cleaning = cleaning[cleaning['Universal Land Use'] != 'Multi-Family Dwellings (Generic - 2+)']\n",
    "cleaning = cleaning[cleaning['Universal Land Use'] != 'Apartment house (5+ units)']\n",
    "cleaning = cleaning[cleaning['Universal Land Use'] != 'Commercial Building']\n",
    "cleaning = cleaning[cleaning['Universal Land Use'] != 'Vacant Land (General)']"
   ]
  },
  {
   "cell_type": "code",
   "execution_count": 34,
   "metadata": {},
   "outputs": [],
   "source": [
    "cleaning = cleaning[cleaning['Listing Type'] != 'lease']"
   ]
  },
  {
   "cell_type": "code",
   "execution_count": 36,
   "metadata": {},
   "outputs": [],
   "source": [
    "cleaning = cleaning[cleaning['Universal Land Use'] != 'Commercial (General)']\n",
    "cleaning = cleaning[cleaning['Universal Land Use'] != 'Commercial-Vacant Land']\n",
    "cleaning = cleaning[cleaning['Universal Land Use'] != 'Condominium Offices']\n",
    "cleaning = cleaning[cleaning['Universal Land Use'] != 'Neighborhood Shopping Center - Strip Center/Mall - Enterprise Zone']\n",
    "cleaning = cleaning[cleaning['Universal Land Use'] != 'Under Construction']"
   ]
  },
  {
   "cell_type": "markdown",
   "metadata": {},
   "source": [
    "Create variables for comparison"
   ]
  },
  {
   "cell_type": "code",
   "execution_count": 51,
   "metadata": {},
   "outputs": [
    {
     "name": "stdout",
     "output_type": "stream",
     "text": [
      "<class 'pandas.core.frame.DataFrame'>\n",
      "Int64Index: 4402 entries, 2 to 2612\n",
      "Data columns (total 51 columns):\n",
      " #   Column                    Non-Null Count  Dtype  \n",
      "---  ------                    --------------  -----  \n",
      " 0   City                      4402 non-null   object \n",
      " 1   ZIP 5                     4402 non-null   float64\n",
      " 2   ZIP 4                     4402 non-null   float64\n",
      " 3   MLS ID                    4402 non-null   int64  \n",
      " 4   Listing Type              4402 non-null   object \n",
      " 5   List Price                4402 non-null   int64  \n",
      " 6   Days on Market            4402 non-null   float64\n",
      " 7   Township Name             4402 non-null   object \n",
      " 8   Subdivision               4402 non-null   object \n",
      " 9   Tax Amount                4400 non-null   float64\n",
      " 10  Total Assessed Value      4402 non-null   int64  \n",
      " 11  Assessed Land             4402 non-null   int64  \n",
      " 12  Assessed Improvement      4402 non-null   int64  \n",
      " 13  Total Market Value        4402 non-null   int64  \n",
      " 14  Market Value Land         4402 non-null   int64  \n",
      " 15  Market Value Improvement  4402 non-null   int64  \n",
      " 16  Estimated Value           4402 non-null   float64\n",
      " 17  County Use Code           4402 non-null   object \n",
      " 18  Universal Land Use        4402 non-null   object \n",
      " 19  Lot Acres                 4402 non-null   float64\n",
      " 20  Lot SQFT                  4402 non-null   float64\n",
      " 21  New Construction          4401 non-null   object \n",
      " 22  Beds                      4402 non-null   float64\n",
      " 23  Baths                     4402 non-null   float64\n",
      " 24  Total Building Area       4402 non-null   int64  \n",
      " 25  Living Area SQFT          4402 non-null   float64\n",
      " 26  Basement SQFT             1 non-null      float64\n",
      " 27  Garage SQFT               4342 non-null   float64\n",
      " 28  Basement                  753 non-null    object \n",
      " 29  Flooring Cover            1468 non-null   object \n",
      " 30  Stories                   4400 non-null   object \n",
      " 31  Year Built                4401 non-null   float64\n",
      " 32  Air conditioning          4221 non-null   object \n",
      " 33  Heat Type                 4201 non-null   object \n",
      " 34  Fireplace indicator       4402 non-null   bool   \n",
      " 35  Construction Type         2382 non-null   object \n",
      " 36  Exterior Wall             4214 non-null   object \n",
      " 37  Roof Material Type        3486 non-null   object \n",
      " 38  Porch Type                3016 non-null   object \n",
      " 39  Has Pool                  969 non-null    object \n",
      " 40  Parking spaces            4402 non-null   int64  \n",
      " 41  Parking Type              4382 non-null   object \n",
      " 42  Total Units               4402 non-null   int64  \n",
      " 43  Sales Price               4402 non-null   float64\n",
      " 44  Equity                    4402 non-null   float64\n",
      " 45  Equity Percentage         4402 non-null   object \n",
      " 46  Mortgage 1 Amount         4229 non-null   float64\n",
      " 47  Mortgage 1 Rate           4229 non-null   object \n",
      " 48  Sales/List Ratio          4402 non-null   float64\n",
      " 49  List Price per SQFT       4402 non-null   float64\n",
      " 50  Sale Price per SQFT       4402 non-null   float64\n",
      "dtypes: bool(1), float64(19), int64(11), object(20)\n",
      "memory usage: 1.9+ MB\n"
     ]
    }
   ],
   "source": [
    "cleaning['Sales/List Ratio'] = cleaning['Sales Price'] / cleaning['List Price']\n",
    "cleaning['List Price per SQFT'] = cleaning['List Price'] / cleaning['Living Area SQFT']\n",
    "cleaning['Sale Price per SQFT'] = cleaning['Sales Price'] / cleaning['Living Area SQFT']\n",
    "cleaning.info()"
   ]
  },
  {
   "cell_type": "markdown",
   "metadata": {},
   "source": [
    "Replace nulls with labels for boolian columns for comparison"
   ]
  },
  {
   "cell_type": "code",
   "execution_count": 85,
   "metadata": {},
   "outputs": [
    {
     "ename": "KeyError",
     "evalue": "\"['Basement SQFT'] not found in axis\"",
     "output_type": "error",
     "traceback": [
      "\u001b[1;31m---------------------------------------------------------------------------\u001b[0m",
      "\u001b[1;31mKeyError\u001b[0m                                  Traceback (most recent call last)",
      "\u001b[1;32m<ipython-input-85-8b9d20d6972c>\u001b[0m in \u001b[0;36m<module>\u001b[1;34m\u001b[0m\n\u001b[0;32m      5\u001b[0m \u001b[0mcleaning\u001b[0m\u001b[1;33m[\u001b[0m\u001b[1;34m'Roof Material Type'\u001b[0m\u001b[1;33m]\u001b[0m\u001b[1;33m.\u001b[0m\u001b[0mfillna\u001b[0m\u001b[1;33m(\u001b[0m\u001b[1;34m'Composition Shingle'\u001b[0m\u001b[1;33m,\u001b[0m \u001b[0minplace\u001b[0m \u001b[1;33m=\u001b[0m \u001b[1;32mTrue\u001b[0m\u001b[1;33m)\u001b[0m\u001b[1;33m\u001b[0m\u001b[1;33m\u001b[0m\u001b[0m\n\u001b[0;32m      6\u001b[0m \u001b[0mcleaning\u001b[0m\u001b[1;33m[\u001b[0m\u001b[1;34m'Air conditioning'\u001b[0m\u001b[1;33m]\u001b[0m\u001b[1;33m.\u001b[0m\u001b[0mfillna\u001b[0m\u001b[1;33m(\u001b[0m\u001b[1;34m'Yes'\u001b[0m\u001b[1;33m,\u001b[0m \u001b[0minplace\u001b[0m \u001b[1;33m=\u001b[0m \u001b[1;32mTrue\u001b[0m\u001b[1;33m)\u001b[0m\u001b[1;33m\u001b[0m\u001b[1;33m\u001b[0m\u001b[0m\n\u001b[1;32m----> 7\u001b[1;33m \u001b[0mcleaning\u001b[0m \u001b[1;33m=\u001b[0m \u001b[0mcleaning\u001b[0m\u001b[1;33m.\u001b[0m\u001b[0mdrop\u001b[0m\u001b[1;33m(\u001b[0m\u001b[1;33m[\u001b[0m\u001b[1;34m'Basement SQFT'\u001b[0m\u001b[1;33m]\u001b[0m\u001b[1;33m,\u001b[0m \u001b[0maxis\u001b[0m \u001b[1;33m=\u001b[0m \u001b[1;36m1\u001b[0m\u001b[1;33m)\u001b[0m\u001b[1;33m\u001b[0m\u001b[1;33m\u001b[0m\u001b[0m\n\u001b[0m\u001b[0;32m      8\u001b[0m \u001b[0mcleaned\u001b[0m \u001b[1;33m=\u001b[0m \u001b[0mcleaning\u001b[0m\u001b[1;33m.\u001b[0m\u001b[0mreset_index\u001b[0m\u001b[1;33m(\u001b[0m\u001b[0mdrop\u001b[0m\u001b[1;33m=\u001b[0m\u001b[1;32mTrue\u001b[0m\u001b[1;33m)\u001b[0m\u001b[1;33m\u001b[0m\u001b[1;33m\u001b[0m\u001b[0m\n\u001b[0;32m      9\u001b[0m \u001b[0mcleaned\u001b[0m\u001b[1;33m.\u001b[0m\u001b[0minfo\u001b[0m\u001b[1;33m(\u001b[0m\u001b[1;33m)\u001b[0m\u001b[1;33m\u001b[0m\u001b[1;33m\u001b[0m\u001b[0m\n",
      "\u001b[1;32m~\\anaconda3\\lib\\site-packages\\pandas\\core\\frame.py\u001b[0m in \u001b[0;36mdrop\u001b[1;34m(self, labels, axis, index, columns, level, inplace, errors)\u001b[0m\n\u001b[0;32m   4161\u001b[0m                 \u001b[0mweight\u001b[0m  \u001b[1;36m1.0\u001b[0m     \u001b[1;36m0.8\u001b[0m\u001b[1;33m\u001b[0m\u001b[1;33m\u001b[0m\u001b[0m\n\u001b[0;32m   4162\u001b[0m         \"\"\"\n\u001b[1;32m-> 4163\u001b[1;33m         return super().drop(\n\u001b[0m\u001b[0;32m   4164\u001b[0m             \u001b[0mlabels\u001b[0m\u001b[1;33m=\u001b[0m\u001b[0mlabels\u001b[0m\u001b[1;33m,\u001b[0m\u001b[1;33m\u001b[0m\u001b[1;33m\u001b[0m\u001b[0m\n\u001b[0;32m   4165\u001b[0m             \u001b[0maxis\u001b[0m\u001b[1;33m=\u001b[0m\u001b[0maxis\u001b[0m\u001b[1;33m,\u001b[0m\u001b[1;33m\u001b[0m\u001b[1;33m\u001b[0m\u001b[0m\n",
      "\u001b[1;32m~\\anaconda3\\lib\\site-packages\\pandas\\core\\generic.py\u001b[0m in \u001b[0;36mdrop\u001b[1;34m(self, labels, axis, index, columns, level, inplace, errors)\u001b[0m\n\u001b[0;32m   3885\u001b[0m         \u001b[1;32mfor\u001b[0m \u001b[0maxis\u001b[0m\u001b[1;33m,\u001b[0m \u001b[0mlabels\u001b[0m \u001b[1;32min\u001b[0m \u001b[0maxes\u001b[0m\u001b[1;33m.\u001b[0m\u001b[0mitems\u001b[0m\u001b[1;33m(\u001b[0m\u001b[1;33m)\u001b[0m\u001b[1;33m:\u001b[0m\u001b[1;33m\u001b[0m\u001b[1;33m\u001b[0m\u001b[0m\n\u001b[0;32m   3886\u001b[0m             \u001b[1;32mif\u001b[0m \u001b[0mlabels\u001b[0m \u001b[1;32mis\u001b[0m \u001b[1;32mnot\u001b[0m \u001b[1;32mNone\u001b[0m\u001b[1;33m:\u001b[0m\u001b[1;33m\u001b[0m\u001b[1;33m\u001b[0m\u001b[0m\n\u001b[1;32m-> 3887\u001b[1;33m                 \u001b[0mobj\u001b[0m \u001b[1;33m=\u001b[0m \u001b[0mobj\u001b[0m\u001b[1;33m.\u001b[0m\u001b[0m_drop_axis\u001b[0m\u001b[1;33m(\u001b[0m\u001b[0mlabels\u001b[0m\u001b[1;33m,\u001b[0m \u001b[0maxis\u001b[0m\u001b[1;33m,\u001b[0m \u001b[0mlevel\u001b[0m\u001b[1;33m=\u001b[0m\u001b[0mlevel\u001b[0m\u001b[1;33m,\u001b[0m \u001b[0merrors\u001b[0m\u001b[1;33m=\u001b[0m\u001b[0merrors\u001b[0m\u001b[1;33m)\u001b[0m\u001b[1;33m\u001b[0m\u001b[1;33m\u001b[0m\u001b[0m\n\u001b[0m\u001b[0;32m   3888\u001b[0m \u001b[1;33m\u001b[0m\u001b[0m\n\u001b[0;32m   3889\u001b[0m         \u001b[1;32mif\u001b[0m \u001b[0minplace\u001b[0m\u001b[1;33m:\u001b[0m\u001b[1;33m\u001b[0m\u001b[1;33m\u001b[0m\u001b[0m\n",
      "\u001b[1;32m~\\anaconda3\\lib\\site-packages\\pandas\\core\\generic.py\u001b[0m in \u001b[0;36m_drop_axis\u001b[1;34m(self, labels, axis, level, errors)\u001b[0m\n\u001b[0;32m   3919\u001b[0m                 \u001b[0mnew_axis\u001b[0m \u001b[1;33m=\u001b[0m \u001b[0maxis\u001b[0m\u001b[1;33m.\u001b[0m\u001b[0mdrop\u001b[0m\u001b[1;33m(\u001b[0m\u001b[0mlabels\u001b[0m\u001b[1;33m,\u001b[0m \u001b[0mlevel\u001b[0m\u001b[1;33m=\u001b[0m\u001b[0mlevel\u001b[0m\u001b[1;33m,\u001b[0m \u001b[0merrors\u001b[0m\u001b[1;33m=\u001b[0m\u001b[0merrors\u001b[0m\u001b[1;33m)\u001b[0m\u001b[1;33m\u001b[0m\u001b[1;33m\u001b[0m\u001b[0m\n\u001b[0;32m   3920\u001b[0m             \u001b[1;32melse\u001b[0m\u001b[1;33m:\u001b[0m\u001b[1;33m\u001b[0m\u001b[1;33m\u001b[0m\u001b[0m\n\u001b[1;32m-> 3921\u001b[1;33m                 \u001b[0mnew_axis\u001b[0m \u001b[1;33m=\u001b[0m \u001b[0maxis\u001b[0m\u001b[1;33m.\u001b[0m\u001b[0mdrop\u001b[0m\u001b[1;33m(\u001b[0m\u001b[0mlabels\u001b[0m\u001b[1;33m,\u001b[0m \u001b[0merrors\u001b[0m\u001b[1;33m=\u001b[0m\u001b[0merrors\u001b[0m\u001b[1;33m)\u001b[0m\u001b[1;33m\u001b[0m\u001b[1;33m\u001b[0m\u001b[0m\n\u001b[0m\u001b[0;32m   3922\u001b[0m             \u001b[0mresult\u001b[0m \u001b[1;33m=\u001b[0m \u001b[0mself\u001b[0m\u001b[1;33m.\u001b[0m\u001b[0mreindex\u001b[0m\u001b[1;33m(\u001b[0m\u001b[1;33m**\u001b[0m\u001b[1;33m{\u001b[0m\u001b[0maxis_name\u001b[0m\u001b[1;33m:\u001b[0m \u001b[0mnew_axis\u001b[0m\u001b[1;33m}\u001b[0m\u001b[1;33m)\u001b[0m\u001b[1;33m\u001b[0m\u001b[1;33m\u001b[0m\u001b[0m\n\u001b[0;32m   3923\u001b[0m \u001b[1;33m\u001b[0m\u001b[0m\n",
      "\u001b[1;32m~\\anaconda3\\lib\\site-packages\\pandas\\core\\indexes\\base.py\u001b[0m in \u001b[0;36mdrop\u001b[1;34m(self, labels, errors)\u001b[0m\n\u001b[0;32m   5280\u001b[0m         \u001b[1;32mif\u001b[0m \u001b[0mmask\u001b[0m\u001b[1;33m.\u001b[0m\u001b[0many\u001b[0m\u001b[1;33m(\u001b[0m\u001b[1;33m)\u001b[0m\u001b[1;33m:\u001b[0m\u001b[1;33m\u001b[0m\u001b[1;33m\u001b[0m\u001b[0m\n\u001b[0;32m   5281\u001b[0m             \u001b[1;32mif\u001b[0m \u001b[0merrors\u001b[0m \u001b[1;33m!=\u001b[0m \u001b[1;34m\"ignore\"\u001b[0m\u001b[1;33m:\u001b[0m\u001b[1;33m\u001b[0m\u001b[1;33m\u001b[0m\u001b[0m\n\u001b[1;32m-> 5282\u001b[1;33m                 \u001b[1;32mraise\u001b[0m \u001b[0mKeyError\u001b[0m\u001b[1;33m(\u001b[0m\u001b[1;34mf\"{labels[mask]} not found in axis\"\u001b[0m\u001b[1;33m)\u001b[0m\u001b[1;33m\u001b[0m\u001b[1;33m\u001b[0m\u001b[0m\n\u001b[0m\u001b[0;32m   5283\u001b[0m             \u001b[0mindexer\u001b[0m \u001b[1;33m=\u001b[0m \u001b[0mindexer\u001b[0m\u001b[1;33m[\u001b[0m\u001b[1;33m~\u001b[0m\u001b[0mmask\u001b[0m\u001b[1;33m]\u001b[0m\u001b[1;33m\u001b[0m\u001b[1;33m\u001b[0m\u001b[0m\n\u001b[0;32m   5284\u001b[0m         \u001b[1;32mreturn\u001b[0m \u001b[0mself\u001b[0m\u001b[1;33m.\u001b[0m\u001b[0mdelete\u001b[0m\u001b[1;33m(\u001b[0m\u001b[0mindexer\u001b[0m\u001b[1;33m)\u001b[0m\u001b[1;33m\u001b[0m\u001b[1;33m\u001b[0m\u001b[0m\n",
      "\u001b[1;31mKeyError\u001b[0m: \"['Basement SQFT'] not found in axis\""
     ]
    }
   ],
   "source": [
    "cleaning['Has Pool'].fillna('None', inplace = True)\n",
    "cleaning['Basement'].fillna('No Basement', inplace = True)\n",
    "cleaning['Porch Type'].fillna('None', inplace = True)\n",
    "cleaning['Heat Type'].fillna('Yes', inplace = True)\n",
    "cleaning['Roof Material Type'].fillna('Composition Shingle', inplace = True)\n",
    "cleaning['Air conditioning'].fillna('Yes', inplace = True)\n",
    "cleaning = cleaning.drop(['Basement SQFT'], axis = 1)\n"
   ]
  },
  {
   "cell_type": "code",
   "execution_count": null,
   "metadata": {},
   "outputs": [],
   "source": [
    "Reset Index"
   ]
  },
  {
   "cell_type": "code",
   "execution_count": 86,
   "metadata": {},
   "outputs": [
    {
     "name": "stdout",
     "output_type": "stream",
     "text": [
      "<class 'pandas.core.frame.DataFrame'>\n",
      "RangeIndex: 4402 entries, 0 to 4401\n",
      "Data columns (total 50 columns):\n",
      " #   Column                    Non-Null Count  Dtype  \n",
      "---  ------                    --------------  -----  \n",
      " 0   City                      4402 non-null   object \n",
      " 1   ZIP 5                     4402 non-null   float64\n",
      " 2   ZIP 4                     4402 non-null   float64\n",
      " 3   MLS ID                    4402 non-null   int64  \n",
      " 4   Listing Type              4402 non-null   object \n",
      " 5   List Price                4402 non-null   int64  \n",
      " 6   Days on Market            4402 non-null   float64\n",
      " 7   Township Name             4402 non-null   object \n",
      " 8   Subdivision               4402 non-null   object \n",
      " 9   Tax Amount                4400 non-null   float64\n",
      " 10  Total Assessed Value      4402 non-null   int64  \n",
      " 11  Assessed Land             4402 non-null   int64  \n",
      " 12  Assessed Improvement      4402 non-null   int64  \n",
      " 13  Total Market Value        4402 non-null   int64  \n",
      " 14  Market Value Land         4402 non-null   int64  \n",
      " 15  Market Value Improvement  4402 non-null   int64  \n",
      " 16  Estimated Value           4402 non-null   float64\n",
      " 17  County Use Code           4402 non-null   object \n",
      " 18  Universal Land Use        4402 non-null   object \n",
      " 19  Lot Acres                 4402 non-null   float64\n",
      " 20  Lot SQFT                  4402 non-null   float64\n",
      " 21  New Construction          4401 non-null   object \n",
      " 22  Beds                      4402 non-null   float64\n",
      " 23  Baths                     4402 non-null   float64\n",
      " 24  Total Building Area       4402 non-null   int64  \n",
      " 25  Living Area SQFT          4402 non-null   float64\n",
      " 26  Garage SQFT               4342 non-null   float64\n",
      " 27  Basement                  4402 non-null   object \n",
      " 28  Flooring Cover            1468 non-null   object \n",
      " 29  Stories                   4400 non-null   object \n",
      " 30  Year Built                4401 non-null   float64\n",
      " 31  Air conditioning          4402 non-null   object \n",
      " 32  Heat Type                 4402 non-null   object \n",
      " 33  Fireplace indicator       4402 non-null   bool   \n",
      " 34  Construction Type         2382 non-null   object \n",
      " 35  Exterior Wall             4214 non-null   object \n",
      " 36  Roof Material Type        4402 non-null   object \n",
      " 37  Porch Type                4402 non-null   object \n",
      " 38  Has Pool                  4402 non-null   object \n",
      " 39  Parking spaces            4402 non-null   int64  \n",
      " 40  Parking Type              4382 non-null   object \n",
      " 41  Total Units               4402 non-null   int64  \n",
      " 42  Sales Price               4402 non-null   float64\n",
      " 43  Equity                    4402 non-null   float64\n",
      " 44  Equity Percentage         4402 non-null   object \n",
      " 45  Mortgage 1 Amount         4229 non-null   float64\n",
      " 46  Mortgage 1 Rate           4229 non-null   object \n",
      " 47  Sales/List Ratio          4402 non-null   float64\n",
      " 48  List Price per SQFT       4402 non-null   float64\n",
      " 49  Sale Price per SQFT       4402 non-null   float64\n",
      "dtypes: bool(1), float64(18), int64(11), object(20)\n",
      "memory usage: 1.6+ MB\n"
     ]
    }
   ],
   "source": [
    "cleaned = cleaning.reset_index(drop=True)\n",
    "cleaned.info()"
   ]
  },
  {
   "cell_type": "code",
   "execution_count": 84,
   "metadata": {},
   "outputs": [
    {
     "data": {
      "text/plain": [
       "2        NaN\n",
       "3      Frame\n",
       "5        NaN\n",
       "6        NaN\n",
       "9      Frame\n",
       "11     Frame\n",
       "12       NaN\n",
       "15       NaN\n",
       "16       NaN\n",
       "17     Frame\n",
       "18     Frame\n",
       "22     Frame\n",
       "25       NaN\n",
       "27     Frame\n",
       "28       NaN\n",
       "33       NaN\n",
       "36     Frame\n",
       "38       NaN\n",
       "40     Frame\n",
       "42     Frame\n",
       "51       NaN\n",
       "52     Frame\n",
       "53     Frame\n",
       "55     Frame\n",
       "56       NaN\n",
       "59     Frame\n",
       "60     Frame\n",
       "61       NaN\n",
       "66     Frame\n",
       "67     Frame\n",
       "70     Frame\n",
       "73     Frame\n",
       "75     Frame\n",
       "76       NaN\n",
       "80       NaN\n",
       "81       NaN\n",
       "83       NaN\n",
       "85     Frame\n",
       "93     Frame\n",
       "94       NaN\n",
       "95       NaN\n",
       "96     Frame\n",
       "97       NaN\n",
       "101    Frame\n",
       "102      NaN\n",
       "105    Frame\n",
       "106      NaN\n",
       "107    Frame\n",
       "109      NaN\n",
       "110      NaN\n",
       "Name: Construction Type, dtype: object"
      ]
     },
     "execution_count": 84,
     "metadata": {},
     "output_type": "execute_result"
    }
   ],
   "source": [
    "###cleaning[['List Price', 'Sales Price','Total Assessed Value', 'Total Market Value', 'Estimated Value','Assessed Land', 'Market Value Land', 'Assessed Improvement', 'Market Value Improvement']].head(50)\n",
    "###cleaning['Has Pool'].head(50)\n",
    "cleaning['Construction Type'].head(50)\n",
    "###cleaning.loc['Assessed Land', 'Market Value Land', 'Assessed Improvement', 'Market Value Improvement'].head()"
   ]
  },
  {
   "cell_type": "markdown",
   "metadata": {},
   "source": [
    "Save Data as csv"
   ]
  },
  {
   "cell_type": "code",
   "execution_count": 89,
   "metadata": {},
   "outputs": [],
   "source": [
    "\n",
    "cleaned.to_csv('Sold Hom Data Cleaned')"
   ]
  },
  {
   "cell_type": "markdown",
   "metadata": {},
   "source": []
  },
  {
   "cell_type": "code",
   "execution_count": null,
   "metadata": {},
   "outputs": [],
   "source": []
  }
 ],
 "metadata": {
  "kernelspec": {
   "display_name": "Python 3",
   "language": "python",
   "name": "python3"
  },
  "language_info": {
   "codemirror_mode": {
    "name": "ipython",
    "version": 3
   },
   "file_extension": ".py",
   "mimetype": "text/x-python",
   "name": "python",
   "nbconvert_exporter": "python",
   "pygments_lexer": "ipython3",
   "version": "3.8.5"
  }
 },
 "nbformat": 4,
 "nbformat_minor": 4
}
